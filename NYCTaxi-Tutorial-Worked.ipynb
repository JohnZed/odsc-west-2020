{
 "cells": [
  {
   "cell_type": "markdown",
   "metadata": {},
   "source": [
    "# Predicting NYC Taxi Fares with RAPIDS\n",
    "\n",
    "[RAPIDS](https://rapids.ai/) is a suite of GPU accelerated data science libraries with APIs that should be familiar to users of Pandas, Dask, and Scikitlearn.\n",
    "\n",
    "Anaconda has graciously made some of the NYC Taxi dataset available in [a public Google Cloud Storage bucket](https://console.cloud.google.com/storage/browser/anaconda-public-data/nyc-taxi/csv/). We have already cleaned up the column names a bit and re-saved a single month of the data. (For a larger-scale exercise, consider adapting this script to handle a full year via Dask!)\n",
    "\n",
    "This notebook builds a simple data pipeline to load the data with cuDF (or Pandas), analyze it with cuML (or scikit-learn), and then try some steps with multiple GPUs."
   ]
  },
  {
   "cell_type": "code",
   "execution_count": 1,
   "metadata": {},
   "outputs": [],
   "source": [
    "import numpy as np\n",
    "import pandas as pd\n",
    "import cuml\n",
    "import cudf\n",
    "import os"
   ]
  },
  {
   "cell_type": "markdown",
   "metadata": {},
   "source": [
    "# Inspecting the Data\n",
    "\n",
    "Let's start with a familiar Pandas approach then port it to RAPIDS in parallel"
   ]
  },
  {
   "cell_type": "code",
   "execution_count": 249,
   "metadata": {},
   "outputs": [
    {
     "name": "stdout",
     "output_type": "stream",
     "text": [
      "CPU times: user 3.27 s, sys: 2.9 s, total: 6.17 s\n",
      "Wall time: 1min 8s\n"
     ]
    },
    {
     "data": {
      "text/html": [
       "<div>\n",
       "<style scoped>\n",
       "    .dataframe tbody tr th:only-of-type {\n",
       "        vertical-align: middle;\n",
       "    }\n",
       "\n",
       "    .dataframe tbody tr th {\n",
       "        vertical-align: top;\n",
       "    }\n",
       "\n",
       "    .dataframe thead th {\n",
       "        text-align: right;\n",
       "    }\n",
       "</style>\n",
       "<table border=\"1\" class=\"dataframe\">\n",
       "  <thead>\n",
       "    <tr style=\"text-align: right;\">\n",
       "      <th></th>\n",
       "      <th>pickup_datetime</th>\n",
       "      <th>dropoff_datetime</th>\n",
       "      <th>passenger_count</th>\n",
       "      <th>trip_distance</th>\n",
       "      <th>pickup_longitude</th>\n",
       "      <th>pickup_latitude</th>\n",
       "      <th>rate_code</th>\n",
       "      <th>dropoff_longitude</th>\n",
       "      <th>dropoff_latitude</th>\n",
       "      <th>fare_amount</th>\n",
       "    </tr>\n",
       "  </thead>\n",
       "  <tbody>\n",
       "    <tr>\n",
       "      <th>0</th>\n",
       "      <td>2014-03-01 01:07:38</td>\n",
       "      <td>2014-03-01 01:16:26</td>\n",
       "      <td>1</td>\n",
       "      <td>2.0</td>\n",
       "      <td>-73.951508</td>\n",
       "      <td>40.714111</td>\n",
       "      <td>1</td>\n",
       "      <td>-73.944275</td>\n",
       "      <td>40.690678</td>\n",
       "      <td>9.0</td>\n",
       "    </tr>\n",
       "    <tr>\n",
       "      <th>1</th>\n",
       "      <td>2014-03-01 01:08:03</td>\n",
       "      <td>2014-03-01 01:12:51</td>\n",
       "      <td>2</td>\n",
       "      <td>1.2</td>\n",
       "      <td>-74.004738</td>\n",
       "      <td>40.742172</td>\n",
       "      <td>1</td>\n",
       "      <td>-73.992226</td>\n",
       "      <td>40.748211</td>\n",
       "      <td>6.0</td>\n",
       "    </tr>\n",
       "    <tr>\n",
       "      <th>2</th>\n",
       "      <td>2014-03-01 01:08:51</td>\n",
       "      <td>2014-03-01 01:13:18</td>\n",
       "      <td>3</td>\n",
       "      <td>0.5</td>\n",
       "      <td>-73.949303</td>\n",
       "      <td>40.707569</td>\n",
       "      <td>1</td>\n",
       "      <td>-73.951653</td>\n",
       "      <td>40.714249</td>\n",
       "      <td>5.0</td>\n",
       "    </tr>\n",
       "    <tr>\n",
       "      <th>3</th>\n",
       "      <td>2014-03-01 01:09:20</td>\n",
       "      <td>2014-03-01 01:24:18</td>\n",
       "      <td>3</td>\n",
       "      <td>3.5</td>\n",
       "      <td>-73.993538</td>\n",
       "      <td>40.721298</td>\n",
       "      <td>1</td>\n",
       "      <td>-73.961433</td>\n",
       "      <td>40.760410</td>\n",
       "      <td>14.0</td>\n",
       "    </tr>\n",
       "    <tr>\n",
       "      <th>4</th>\n",
       "      <td>2014-03-01 01:09:46</td>\n",
       "      <td>2014-03-01 01:22:34</td>\n",
       "      <td>1</td>\n",
       "      <td>1.8</td>\n",
       "      <td>-73.987885</td>\n",
       "      <td>40.744579</td>\n",
       "      <td>1</td>\n",
       "      <td>-74.004387</td>\n",
       "      <td>40.722775</td>\n",
       "      <td>10.5</td>\n",
       "    </tr>\n",
       "  </tbody>\n",
       "</table>\n",
       "</div>"
      ],
      "text/plain": [
       "      pickup_datetime    dropoff_datetime  passenger_count  trip_distance  \\\n",
       "0 2014-03-01 01:07:38 2014-03-01 01:16:26                1            2.0   \n",
       "1 2014-03-01 01:08:03 2014-03-01 01:12:51                2            1.2   \n",
       "2 2014-03-01 01:08:51 2014-03-01 01:13:18                3            0.5   \n",
       "3 2014-03-01 01:09:20 2014-03-01 01:24:18                3            3.5   \n",
       "4 2014-03-01 01:09:46 2014-03-01 01:22:34                1            1.8   \n",
       "\n",
       "   pickup_longitude  pickup_latitude  rate_code  dropoff_longitude  \\\n",
       "0        -73.951508        40.714111          1         -73.944275   \n",
       "1        -74.004738        40.742172          1         -73.992226   \n",
       "2        -73.949303        40.707569          1         -73.951653   \n",
       "3        -73.993538        40.721298          1         -73.961433   \n",
       "4        -73.987885        40.744579          1         -74.004387   \n",
       "\n",
       "   dropoff_latitude  fare_amount  \n",
       "0         40.690678          9.0  \n",
       "1         40.748211          6.0  \n",
       "2         40.714249          5.0  \n",
       "3         40.760410         14.0  \n",
       "4         40.722775         10.5  "
      ]
     },
     "execution_count": 249,
     "metadata": {},
     "output_type": "execute_result"
    }
   ],
   "source": [
    "%%time\n",
    "# Pandas\n",
    "\n",
    "# df = pd.read_orc('yellow_tripdata_2014-03-cleaned.orc')\n",
    "df = pd.read_orc('https://odsc-sample-data.s3-us-west-2.amazonaws.com/yellow_tripdata_2014-03-cleaned.orc')\n",
    "df.head()"
   ]
  },
  {
   "cell_type": "code",
   "execution_count": 6,
   "metadata": {},
   "outputs": [
    {
     "name": "stdout",
     "output_type": "stream",
     "text": [
      "CPU times: user 141 ms, sys: 113 ms, total: 255 ms\n",
      "Wall time: 253 ms\n"
     ]
    },
    {
     "data": {
      "text/html": [
       "<div>\n",
       "<style scoped>\n",
       "    .dataframe tbody tr th:only-of-type {\n",
       "        vertical-align: middle;\n",
       "    }\n",
       "\n",
       "    .dataframe tbody tr th {\n",
       "        vertical-align: top;\n",
       "    }\n",
       "\n",
       "    .dataframe thead th {\n",
       "        text-align: right;\n",
       "    }\n",
       "</style>\n",
       "<table border=\"1\" class=\"dataframe\">\n",
       "  <thead>\n",
       "    <tr style=\"text-align: right;\">\n",
       "      <th></th>\n",
       "      <th>pickup_datetime</th>\n",
       "      <th>dropoff_datetime</th>\n",
       "      <th>passenger_count</th>\n",
       "      <th>trip_distance</th>\n",
       "      <th>pickup_longitude</th>\n",
       "      <th>pickup_latitude</th>\n",
       "      <th>rate_code</th>\n",
       "      <th>dropoff_longitude</th>\n",
       "      <th>dropoff_latitude</th>\n",
       "      <th>fare_amount</th>\n",
       "    </tr>\n",
       "  </thead>\n",
       "  <tbody>\n",
       "    <tr>\n",
       "      <th>0</th>\n",
       "      <td>2014-03-01 01:07:38</td>\n",
       "      <td>2014-03-01 01:16:26</td>\n",
       "      <td>1</td>\n",
       "      <td>2.0</td>\n",
       "      <td>-73.951508</td>\n",
       "      <td>40.714111</td>\n",
       "      <td>1</td>\n",
       "      <td>-73.944275</td>\n",
       "      <td>40.690678</td>\n",
       "      <td>9.0</td>\n",
       "    </tr>\n",
       "    <tr>\n",
       "      <th>1</th>\n",
       "      <td>2014-03-01 01:08:03</td>\n",
       "      <td>2014-03-01 01:12:51</td>\n",
       "      <td>2</td>\n",
       "      <td>1.2</td>\n",
       "      <td>-74.004738</td>\n",
       "      <td>40.742172</td>\n",
       "      <td>1</td>\n",
       "      <td>-73.992226</td>\n",
       "      <td>40.748211</td>\n",
       "      <td>6.0</td>\n",
       "    </tr>\n",
       "    <tr>\n",
       "      <th>2</th>\n",
       "      <td>2014-03-01 01:08:51</td>\n",
       "      <td>2014-03-01 01:13:18</td>\n",
       "      <td>3</td>\n",
       "      <td>0.5</td>\n",
       "      <td>-73.949303</td>\n",
       "      <td>40.707569</td>\n",
       "      <td>1</td>\n",
       "      <td>-73.951653</td>\n",
       "      <td>40.714249</td>\n",
       "      <td>5.0</td>\n",
       "    </tr>\n",
       "    <tr>\n",
       "      <th>3</th>\n",
       "      <td>2014-03-01 01:09:20</td>\n",
       "      <td>2014-03-01 01:24:18</td>\n",
       "      <td>3</td>\n",
       "      <td>3.5</td>\n",
       "      <td>-73.993538</td>\n",
       "      <td>40.721298</td>\n",
       "      <td>1</td>\n",
       "      <td>-73.961433</td>\n",
       "      <td>40.760410</td>\n",
       "      <td>14.0</td>\n",
       "    </tr>\n",
       "    <tr>\n",
       "      <th>4</th>\n",
       "      <td>2014-03-01 01:09:46</td>\n",
       "      <td>2014-03-01 01:22:34</td>\n",
       "      <td>1</td>\n",
       "      <td>1.8</td>\n",
       "      <td>-73.987885</td>\n",
       "      <td>40.744579</td>\n",
       "      <td>1</td>\n",
       "      <td>-74.004387</td>\n",
       "      <td>40.722775</td>\n",
       "      <td>10.5</td>\n",
       "    </tr>\n",
       "  </tbody>\n",
       "</table>\n",
       "</div>"
      ],
      "text/plain": [
       "      pickup_datetime    dropoff_datetime  passenger_count  trip_distance  \\\n",
       "0 2014-03-01 01:07:38 2014-03-01 01:16:26                1            2.0   \n",
       "1 2014-03-01 01:08:03 2014-03-01 01:12:51                2            1.2   \n",
       "2 2014-03-01 01:08:51 2014-03-01 01:13:18                3            0.5   \n",
       "3 2014-03-01 01:09:20 2014-03-01 01:24:18                3            3.5   \n",
       "4 2014-03-01 01:09:46 2014-03-01 01:22:34                1            1.8   \n",
       "\n",
       "   pickup_longitude  pickup_latitude  rate_code  dropoff_longitude  \\\n",
       "0        -73.951508        40.714111          1         -73.944275   \n",
       "1        -74.004738        40.742172          1         -73.992226   \n",
       "2        -73.949303        40.707569          1         -73.951653   \n",
       "3        -73.993538        40.721298          1         -73.961433   \n",
       "4        -73.987885        40.744579          1         -74.004387   \n",
       "\n",
       "   dropoff_latitude  fare_amount  \n",
       "0         40.690678          9.0  \n",
       "1         40.748211          6.0  \n",
       "2         40.714249          5.0  \n",
       "3         40.760410         14.0  \n",
       "4         40.722775         10.5  "
      ]
     },
     "execution_count": 6,
     "metadata": {},
     "output_type": "execute_result"
    }
   ],
   "source": [
    "%%time\n",
    "# TODO: Read the CSV with cudf into 'gdf' and display the first few rows\n",
    "\n",
    "# *** Answer: ***\n",
    "\n",
    "# gdf = cudf.read_orc('yellow_tripdata_2014-03-cleaned.orc')\n",
    "gdf = cudf.read_orc('https://odsc-sample-data.s3-us-west-2.amazonaws.com/yellow_tripdata_2014-03-cleaned.orc')\n",
    "\n",
    "\n",
    "gdf.head()"
   ]
  },
  {
   "cell_type": "markdown",
   "metadata": {},
   "source": [
    "# Look at some key stats"
   ]
  },
  {
   "cell_type": "code",
   "execution_count": 7,
   "metadata": {},
   "outputs": [
    {
     "name": "stderr",
     "output_type": "stream",
     "text": [
      "/home/jzedlewski/anaconda3/lib/python3.7/site-packages/statsmodels/tools/_testing.py:19: FutureWarning: pandas.util.testing is deprecated. Use the functions in the public API at pandas.testing instead.\n",
      "  import pandas.util.testing as tm\n"
     ]
    }
   ],
   "source": [
    "import seaborn as sns"
   ]
  },
  {
   "cell_type": "markdown",
   "metadata": {},
   "source": [
    "When passing data to functions that expect Pandas DataFrames, we just use \".to_pandas()\""
   ]
  },
  {
   "cell_type": "code",
   "execution_count": 8,
   "metadata": {},
   "outputs": [
    {
     "data": {
      "text/plain": [
       "<matplotlib.axes._subplots.AxesSubplot at 0x7fa4bb9e6e90>"
      ]
     },
     "execution_count": 8,
     "metadata": {},
     "output_type": "execute_result"
    },
    {
     "data": {
      "image/png": "[encoded data removed]",
      "text/plain": [
       "<Figure size 432x288 with 1 Axes>"
      ]
     },
     "metadata": {
      "needs_background": "light"
     },
     "output_type": "display_data"
    }
   ],
   "source": [
    "sns.boxplot(x=\"passenger_count\", y=\"fare_amount\", data=gdf.to_pandas())"
   ]
  },
  {
   "cell_type": "code",
   "execution_count": 9,
   "metadata": {},
   "outputs": [
    {
     "data": {
      "text/plain": [
       "<seaborn.axisgrid.FacetGrid at 0x7fa4bb0bf350>"
      ]
     },
     "execution_count": 9,
     "metadata": {},
     "output_type": "execute_result"
    },
    {
     "data": {
      "image/png": "[encoded data removed]",
      "text/plain": [
       "<Figure size 360x360 with 1 Axes>"
      ]
     },
     "metadata": {
      "needs_background": "light"
     },
     "output_type": "display_data"
    }
   ],
   "source": [
    "sns.lmplot(x=\"pickup_longitude\", y=\"pickup_latitude\",\n",
    "           data=gdf.head(100000).to_pandas(),\n",
    "           fit_reg=False,\n",
    "           x_jitter=0.01, y_jitter=0.01)"
   ]
  },
  {
   "cell_type": "markdown",
   "metadata": {},
   "source": [
    "# Filter the data\n",
    "\n",
    "Ok, there are some WEIRD latitudes and longitudes in that data. Let's filter to just sane stuff."
   ]
  },
  {
   "cell_type": "code",
   "execution_count": 10,
   "metadata": {},
   "outputs": [
    {
     "name": "stdout",
     "output_type": "stream",
     "text": [
      "CPU times: user 1.43 s, sys: 2.02 s, total: 3.45 s\n",
      "Wall time: 1.17 s\n"
     ]
    },
    {
     "data": {
      "text/html": [
       "<div>\n",
       "<style scoped>\n",
       "    .dataframe tbody tr th:only-of-type {\n",
       "        vertical-align: middle;\n",
       "    }\n",
       "\n",
       "    .dataframe tbody tr th {\n",
       "        vertical-align: top;\n",
       "    }\n",
       "\n",
       "    .dataframe thead th {\n",
       "        text-align: right;\n",
       "    }\n",
       "</style>\n",
       "<table border=\"1\" class=\"dataframe\">\n",
       "  <thead>\n",
       "    <tr style=\"text-align: right;\">\n",
       "      <th></th>\n",
       "      <th>pickup_datetime</th>\n",
       "      <th>dropoff_datetime</th>\n",
       "      <th>passenger_count</th>\n",
       "      <th>trip_distance</th>\n",
       "      <th>pickup_longitude</th>\n",
       "      <th>pickup_latitude</th>\n",
       "      <th>rate_code</th>\n",
       "      <th>dropoff_longitude</th>\n",
       "      <th>dropoff_latitude</th>\n",
       "      <th>fare_amount</th>\n",
       "    </tr>\n",
       "  </thead>\n",
       "  <tbody>\n",
       "    <tr>\n",
       "      <th>0</th>\n",
       "      <td>2014-03-01 01:07:38</td>\n",
       "      <td>2014-03-01 01:16:26</td>\n",
       "      <td>1</td>\n",
       "      <td>2.0</td>\n",
       "      <td>-73.951508</td>\n",
       "      <td>40.714111</td>\n",
       "      <td>1</td>\n",
       "      <td>-73.944275</td>\n",
       "      <td>40.690678</td>\n",
       "      <td>9.0</td>\n",
       "    </tr>\n",
       "    <tr>\n",
       "      <th>1</th>\n",
       "      <td>2014-03-01 01:08:03</td>\n",
       "      <td>2014-03-01 01:12:51</td>\n",
       "      <td>2</td>\n",
       "      <td>1.2</td>\n",
       "      <td>-74.004738</td>\n",
       "      <td>40.742172</td>\n",
       "      <td>1</td>\n",
       "      <td>-73.992226</td>\n",
       "      <td>40.748211</td>\n",
       "      <td>6.0</td>\n",
       "    </tr>\n",
       "    <tr>\n",
       "      <th>2</th>\n",
       "      <td>2014-03-01 01:08:51</td>\n",
       "      <td>2014-03-01 01:13:18</td>\n",
       "      <td>3</td>\n",
       "      <td>0.5</td>\n",
       "      <td>-73.949303</td>\n",
       "      <td>40.707569</td>\n",
       "      <td>1</td>\n",
       "      <td>-73.951653</td>\n",
       "      <td>40.714249</td>\n",
       "      <td>5.0</td>\n",
       "    </tr>\n",
       "    <tr>\n",
       "      <th>3</th>\n",
       "      <td>2014-03-01 01:09:20</td>\n",
       "      <td>2014-03-01 01:24:18</td>\n",
       "      <td>3</td>\n",
       "      <td>3.5</td>\n",
       "      <td>-73.993538</td>\n",
       "      <td>40.721298</td>\n",
       "      <td>1</td>\n",
       "      <td>-73.961433</td>\n",
       "      <td>40.760410</td>\n",
       "      <td>14.0</td>\n",
       "    </tr>\n",
       "    <tr>\n",
       "      <th>4</th>\n",
       "      <td>2014-03-01 01:09:46</td>\n",
       "      <td>2014-03-01 01:22:34</td>\n",
       "      <td>1</td>\n",
       "      <td>1.8</td>\n",
       "      <td>-73.987885</td>\n",
       "      <td>40.744579</td>\n",
       "      <td>1</td>\n",
       "      <td>-74.004387</td>\n",
       "      <td>40.722775</td>\n",
       "      <td>10.5</td>\n",
       "    </tr>\n",
       "  </tbody>\n",
       "</table>\n",
       "</div>"
      ],
      "text/plain": [
       "      pickup_datetime    dropoff_datetime  passenger_count  trip_distance  \\\n",
       "0 2014-03-01 01:07:38 2014-03-01 01:16:26                1            2.0   \n",
       "1 2014-03-01 01:08:03 2014-03-01 01:12:51                2            1.2   \n",
       "2 2014-03-01 01:08:51 2014-03-01 01:13:18                3            0.5   \n",
       "3 2014-03-01 01:09:20 2014-03-01 01:24:18                3            3.5   \n",
       "4 2014-03-01 01:09:46 2014-03-01 01:22:34                1            1.8   \n",
       "\n",
       "   pickup_longitude  pickup_latitude  rate_code  dropoff_longitude  \\\n",
       "0        -73.951508        40.714111          1         -73.944275   \n",
       "1        -74.004738        40.742172          1         -73.992226   \n",
       "2        -73.949303        40.707569          1         -73.951653   \n",
       "3        -73.993538        40.721298          1         -73.961433   \n",
       "4        -73.987885        40.744579          1         -74.004387   \n",
       "\n",
       "   dropoff_latitude  fare_amount  \n",
       "0         40.690678          9.0  \n",
       "1         40.748211          6.0  \n",
       "2         40.714249          5.0  \n",
       "3         40.760410         14.0  \n",
       "4         40.722775         10.5  "
      ]
     },
     "execution_count": 10,
     "metadata": {},
     "output_type": "execute_result"
    }
   ],
   "source": [
    "%%time\n",
    "\n",
    "# apply a list of filter conditions to throw out records with missing or outlier values\n",
    "query_frags = [\n",
    "    'fare_amount > 0 and fare_amount < 500',\n",
    "    'passenger_count > 0 and passenger_count < 6',\n",
    "    'pickup_longitude > -75.0 and pickup_longitude < -73.0',\n",
    "    'dropoff_longitude > -75 and dropoff_longitude < -73',\n",
    "    'pickup_latitude > 40 and pickup_latitude < 42',\n",
    "    'dropoff_latitude > 40 and dropoff_latitude < 42'\n",
    "]\n",
    "df_subset = df.query(' and '.join(query_frags)).copy()\n",
    "\n",
    "# inspect the results of cleaning\n",
    "df_subset.head()"
   ]
  },
  {
   "cell_type": "code",
   "execution_count": 11,
   "metadata": {},
   "outputs": [
    {
     "name": "stdout",
     "output_type": "stream",
     "text": [
      "CPU times: user 308 ms, sys: 23.3 ms, total: 331 ms\n",
      "Wall time: 335 ms\n"
     ]
    },
    {
     "data": {
      "text/html": [
       "<div>\n",
       "<style scoped>\n",
       "    .dataframe tbody tr th:only-of-type {\n",
       "        vertical-align: middle;\n",
       "    }\n",
       "\n",
       "    .dataframe tbody tr th {\n",
       "        vertical-align: top;\n",
       "    }\n",
       "\n",
       "    .dataframe thead th {\n",
       "        text-align: right;\n",
       "    }\n",
       "</style>\n",
       "<table border=\"1\" class=\"dataframe\">\n",
       "  <thead>\n",
       "    <tr style=\"text-align: right;\">\n",
       "      <th></th>\n",
       "      <th>pickup_datetime</th>\n",
       "      <th>dropoff_datetime</th>\n",
       "      <th>passenger_count</th>\n",
       "      <th>trip_distance</th>\n",
       "      <th>pickup_longitude</th>\n",
       "      <th>pickup_latitude</th>\n",
       "      <th>rate_code</th>\n",
       "      <th>dropoff_longitude</th>\n",
       "      <th>dropoff_latitude</th>\n",
       "      <th>fare_amount</th>\n",
       "    </tr>\n",
       "  </thead>\n",
       "  <tbody>\n",
       "    <tr>\n",
       "      <th>0</th>\n",
       "      <td>2014-03-01 01:07:38</td>\n",
       "      <td>2014-03-01 01:16:26</td>\n",
       "      <td>1</td>\n",
       "      <td>2.0</td>\n",
       "      <td>-73.951508</td>\n",
       "      <td>40.714111</td>\n",
       "      <td>1</td>\n",
       "      <td>-73.944275</td>\n",
       "      <td>40.690678</td>\n",
       "      <td>9.0</td>\n",
       "    </tr>\n",
       "    <tr>\n",
       "      <th>1</th>\n",
       "      <td>2014-03-01 01:08:03</td>\n",
       "      <td>2014-03-01 01:12:51</td>\n",
       "      <td>2</td>\n",
       "      <td>1.2</td>\n",
       "      <td>-74.004738</td>\n",
       "      <td>40.742172</td>\n",
       "      <td>1</td>\n",
       "      <td>-73.992226</td>\n",
       "      <td>40.748211</td>\n",
       "      <td>6.0</td>\n",
       "    </tr>\n",
       "    <tr>\n",
       "      <th>2</th>\n",
       "      <td>2014-03-01 01:08:51</td>\n",
       "      <td>2014-03-01 01:13:18</td>\n",
       "      <td>3</td>\n",
       "      <td>0.5</td>\n",
       "      <td>-73.949303</td>\n",
       "      <td>40.707569</td>\n",
       "      <td>1</td>\n",
       "      <td>-73.951653</td>\n",
       "      <td>40.714249</td>\n",
       "      <td>5.0</td>\n",
       "    </tr>\n",
       "    <tr>\n",
       "      <th>3</th>\n",
       "      <td>2014-03-01 01:09:20</td>\n",
       "      <td>2014-03-01 01:24:18</td>\n",
       "      <td>3</td>\n",
       "      <td>3.5</td>\n",
       "      <td>-73.993538</td>\n",
       "      <td>40.721298</td>\n",
       "      <td>1</td>\n",
       "      <td>-73.961433</td>\n",
       "      <td>40.760410</td>\n",
       "      <td>14.0</td>\n",
       "    </tr>\n",
       "    <tr>\n",
       "      <th>4</th>\n",
       "      <td>2014-03-01 01:09:46</td>\n",
       "      <td>2014-03-01 01:22:34</td>\n",
       "      <td>1</td>\n",
       "      <td>1.8</td>\n",
       "      <td>-73.987885</td>\n",
       "      <td>40.744579</td>\n",
       "      <td>1</td>\n",
       "      <td>-74.004387</td>\n",
       "      <td>40.722775</td>\n",
       "      <td>10.5</td>\n",
       "    </tr>\n",
       "  </tbody>\n",
       "</table>\n",
       "</div>"
      ],
      "text/plain": [
       "      pickup_datetime    dropoff_datetime  passenger_count  trip_distance  \\\n",
       "0 2014-03-01 01:07:38 2014-03-01 01:16:26                1            2.0   \n",
       "1 2014-03-01 01:08:03 2014-03-01 01:12:51                2            1.2   \n",
       "2 2014-03-01 01:08:51 2014-03-01 01:13:18                3            0.5   \n",
       "3 2014-03-01 01:09:20 2014-03-01 01:24:18                3            3.5   \n",
       "4 2014-03-01 01:09:46 2014-03-01 01:22:34                1            1.8   \n",
       "\n",
       "   pickup_longitude  pickup_latitude  rate_code  dropoff_longitude  \\\n",
       "0        -73.951508        40.714111          1         -73.944275   \n",
       "1        -74.004738        40.742172          1         -73.992226   \n",
       "2        -73.949303        40.707569          1         -73.951653   \n",
       "3        -73.993538        40.721298          1         -73.961433   \n",
       "4        -73.987885        40.744579          1         -74.004387   \n",
       "\n",
       "   dropoff_latitude  fare_amount  \n",
       "0         40.690678          9.0  \n",
       "1         40.748211          6.0  \n",
       "2         40.714249          5.0  \n",
       "3         40.760410         14.0  \n",
       "4         40.722775         10.5  "
      ]
     },
     "execution_count": 11,
     "metadata": {},
     "output_type": "execute_result"
    }
   ],
   "source": [
    "%%time\n",
    "\n",
    "# TODO: RAPIDS version with \"gdf_subset\" as output\n",
    "\n",
    "# *** Answer:\n",
    "gdf_subset = gdf.query(' and '.join(query_frags)).copy()\n",
    "gdf_subset.head()"
   ]
  },
  {
   "cell_type": "markdown",
   "metadata": {},
   "source": [
    "# Demo 3: UDFs to add rich features \n",
    "\n",
    "cuDF provides standard DataFrame operations, but also let you run \"user defined functions\" on the underlying data.\n",
    "\n",
    "cuDF's [apply_rows](https://rapidsai.github.io/projects/cudf/en/0.6.0/api.html#cudf.dataframe.DataFrame.apply_rows) operation is similar to Pandas's [DataFrame.apply](https://pandas.pydata.org/pandas-docs/stable/reference/api/pandas.DataFrame.apply.html), except that for cuDF, custom Python code is [JIT compiled by numba](https://numba.pydata.org/numba-doc/dev/cuda/kernels.html) into GPU kernels.\n",
    "\n",
    "We'll use a Haversine Distance calculation to find total trip distance, and extract additional useful variables from the datetime fields."
   ]
  },
  {
   "cell_type": "code",
   "execution_count": 12,
   "metadata": {},
   "outputs": [],
   "source": [
    "from numpy import pi\n",
    "\n",
    "def haversine_distance_kernel_cpu(row):\n",
    "    x_1, y_1, x_2, y_2 = (row[\"pickup_latitude\"], row[\"pickup_longitude\"], row[\"dropoff_latitude\"], row[\"dropoff_longitude\"])\n",
    "    x_1 = pi/180 * x_1\n",
    "    y_1 = pi/180 * y_1\n",
    "    x_2 = pi/180 * x_2\n",
    "    y_2 = pi/180 * y_2\n",
    "\n",
    "    dlon = y_2 - y_1\n",
    "    dlat = x_2 - x_1\n",
    "    a = np.sin(dlat/2)**2 + np.cos(x_1) * np.cos(x_2) * np.sin(dlon/2)**2\n",
    "\n",
    "    c = 2 * np.arcsin(np.sqrt(a)) \n",
    "    r = 6371 # Radius of earth in kilometers\n",
    "        \n",
    "    return c * r\n",
    "        \n",
    "def add_features(df):\n",
    "    df['hour'] = df['pickup_datetime'].dt.hour\n",
    "    df['year'] = df['pickup_datetime'].dt.year\n",
    "    df['month'] = df['pickup_datetime'].dt.month\n",
    "    df['day'] = df['pickup_datetime'].dt.day\n",
    "    \n",
    "    df['pickup_latitude_r'] = df['pickup_latitude']//.01*.01\n",
    "    df['pickup_longitude_r'] = df['pickup_longitude']//.01*.01\n",
    "    df['dropoff_latitude_r'] = df['dropoff_latitude']//.01*.01\n",
    "    df['dropoff_longitude_r'] = df['dropoff_longitude']//.01*.01\n",
    "    df[\"day_of_week\"] = df[\"pickup_datetime\"].dt.dayofweek\n",
    "    \n",
    "    df = df.drop(columns=['pickup_datetime', 'dropoff_datetime'])    \n",
    "    \n",
    "    df['is_weekend'] = (df['day_of_week'] >= 5).astype(np.int32)\n",
    "    return df"
   ]
  },
  {
   "cell_type": "code",
   "execution_count": 13,
   "metadata": {},
   "outputs": [
    {
     "name": "stdout",
     "output_type": "stream",
     "text": [
      "CPU times: user 8.49 s, sys: 2 s, total: 10.5 s\n",
      "Wall time: 9.37 s\n"
     ]
    }
   ],
   "source": [
    "%%time\n",
    "\n",
    "# actually add the features\n",
    "taxi_df = add_features(df_subset)"
   ]
  },
  {
   "cell_type": "code",
   "execution_count": 14,
   "metadata": {},
   "outputs": [
    {
     "name": "stdout",
     "output_type": "stream",
     "text": [
      "CPU times: user 3.94 s, sys: 2.73 s, total: 6.67 s\n",
      "Wall time: 1.13 s\n"
     ]
    }
   ],
   "source": [
    "%%time\n",
    "# compute distance\n",
    "taxi_df[\"h_distance\"] = haversine_distance_kernel_cpu(taxi_df)"
   ]
  },
  {
   "cell_type": "markdown",
   "metadata": {},
   "source": [
    "## cuDF version with UDF"
   ]
  },
  {
   "cell_type": "markdown",
   "metadata": {},
   "source": [
    "cuDF's [apply_rows](https://rapidsai.github.io/projects/cudf/en/0.6.0/api.html#cudf.dataframe.DataFrame.apply_rows) operation is similar to Pandas's [DataFrame.apply](https://pandas.pydata.org/pandas-docs/stable/reference/api/pandas.DataFrame.apply.html), except that for cuDF, custom Python code is [JIT compiled by numba](https://numba.pydata.org/numba-doc/dev/cuda/kernels.html) into GPU kernels."
   ]
  },
  {
   "cell_type": "code",
   "execution_count": 15,
   "metadata": {},
   "outputs": [],
   "source": [
    "import math\n",
    "from math import cos, sin, asin, sqrt, pi\n",
    "\n",
    "def haversine_distance_kernel_gpu(pickup_latitude, pickup_longitude, dropoff_latitude, dropoff_longitude, h_distance):\n",
    "    for i, (x_1, y_1, x_2, y_2) in enumerate(zip(pickup_latitude, pickup_longitude, dropoff_latitude, dropoff_longitude)):\n",
    "        x_1 = pi/180 * x_1\n",
    "        y_1 = pi/180 * y_1\n",
    "        x_2 = pi/180 * x_2\n",
    "        y_2 = pi/180 * y_2\n",
    "        \n",
    "        dlon = y_2 - y_1\n",
    "        dlat = x_2 - x_1\n",
    "        a = sin(dlat/2)**2 + cos(x_1) * cos(x_2) * sin(dlon/2)**2\n",
    "        \n",
    "        c = 2 * asin(sqrt(a)) \n",
    "        r = 6371 # Radius of earth in kilometers\n",
    "        \n",
    "        h_distance[i] = c * r\n",
    "  \n",
    "def add_features_gpu(df):\n",
    "    df['hour'] = df['pickup_datetime'].dt.hour\n",
    "    df['year'] = df['pickup_datetime'].dt.year\n",
    "    df['month'] = df['pickup_datetime'].dt.month\n",
    "    df['day'] = df['pickup_datetime'].dt.day\n",
    "    \n",
    "    df['pickup_latitude_r'] = df['pickup_latitude']//.01*.01\n",
    "    df['pickup_longitude_r'] = df['pickup_longitude']//.01*.01\n",
    "    df['dropoff_latitude_r'] = df['dropoff_latitude']//.01*.01\n",
    "    df['dropoff_longitude_r'] = df['dropoff_longitude']//.01*.01\n",
    "    df[\"day_of_week\"] = df[\"pickup_datetime\"].dt.dayofweek\n",
    "    \n",
    "    df = df.drop(columns=['pickup_datetime', 'dropoff_datetime'])    \n",
    " \n",
    "    df['is_weekend'] = (df['day_of_week'] >= 5).astype(np.int32)\n",
    "    return df\n",
    "\n",
    "def compute_distance_gpu(df):\n",
    "    df = df.apply_rows(haversine_distance_kernel_gpu,\n",
    "                   incols=['pickup_latitude', 'pickup_longitude', 'dropoff_latitude', 'dropoff_longitude'],\n",
    "                   outcols=dict(h_distance=np.float32),\n",
    "                   kwargs=dict())\n",
    "    return df"
   ]
  },
  {
   "cell_type": "code",
   "execution_count": 17,
   "metadata": {},
   "outputs": [
    {
     "name": "stdout",
     "output_type": "stream",
     "text": [
      "CPU times: user 1.06 s, sys: 53 ms, total: 1.12 s\n",
      "Wall time: 1.14 s\n"
     ]
    }
   ],
   "source": [
    "%%time\n",
    "\n",
    "# TODO: actually add the features and create \"taxi_gdf\" from gdf_subset\n",
    "\n",
    "# Answer\n",
    "taxi_gdf = add_features_gpu(gdf_subset)"
   ]
  },
  {
   "cell_type": "code",
   "execution_count": 24,
   "metadata": {},
   "outputs": [
    {
     "name": "stdout",
     "output_type": "stream",
     "text": [
      "CPU times: user 18.3 ms, sys: 21 ms, total: 39.3 ms\n",
      "Wall time: 37.6 ms\n"
     ]
    }
   ],
   "source": [
    "%%time\n",
    "\n",
    "# TODO: add the distance calculation\n",
    "\n",
    "# *** Answer\n",
    "taxi_gdf = compute_distance_gpu(taxi_gdf)"
   ]
  },
  {
   "cell_type": "markdown",
   "metadata": {},
   "source": [
    "For more advanced spatial calculations, check out cuSpatial (https://medium.com/rapids-ai/releasing-cuspatial-to-accelerate-geospatial-and-spatiotemporal-processing-b686d8b32a9), the newest RAPIDS library."
   ]
  },
  {
   "cell_type": "code",
   "execution_count": 28,
   "metadata": {},
   "outputs": [
    {
     "name": "stdout",
     "output_type": "stream",
     "text": [
      "CPU times: user 470 ms, sys: 211 ms, total: 681 ms\n",
      "Wall time: 678 ms\n"
     ]
    },
    {
     "data": {
      "text/html": [
       "<div>\n",
       "<style scoped>\n",
       "    .dataframe tbody tr th:only-of-type {\n",
       "        vertical-align: middle;\n",
       "    }\n",
       "\n",
       "    .dataframe tbody tr th {\n",
       "        vertical-align: top;\n",
       "    }\n",
       "\n",
       "    .dataframe thead th {\n",
       "        text-align: right;\n",
       "    }\n",
       "</style>\n",
       "<table border=\"1\" class=\"dataframe\">\n",
       "  <thead>\n",
       "    <tr style=\"text-align: right;\">\n",
       "      <th></th>\n",
       "      <th>passenger_count</th>\n",
       "      <th>trip_distance</th>\n",
       "      <th>pickup_longitude</th>\n",
       "      <th>pickup_latitude</th>\n",
       "      <th>rate_code</th>\n",
       "      <th>dropoff_longitude</th>\n",
       "      <th>dropoff_latitude</th>\n",
       "      <th>fare_amount</th>\n",
       "      <th>hour</th>\n",
       "      <th>year</th>\n",
       "      <th>month</th>\n",
       "      <th>day</th>\n",
       "      <th>pickup_latitude_r</th>\n",
       "      <th>pickup_longitude_r</th>\n",
       "      <th>dropoff_latitude_r</th>\n",
       "      <th>dropoff_longitude_r</th>\n",
       "      <th>day_of_week</th>\n",
       "      <th>is_weekend</th>\n",
       "      <th>h_distance</th>\n",
       "    </tr>\n",
       "  </thead>\n",
       "  <tbody>\n",
       "    <tr>\n",
       "      <th>count</th>\n",
       "      <td>1.456764e+07</td>\n",
       "      <td>1.456764e+07</td>\n",
       "      <td>1.456764e+07</td>\n",
       "      <td>1.456764e+07</td>\n",
       "      <td>1.456764e+07</td>\n",
       "      <td>1.456764e+07</td>\n",
       "      <td>1.456764e+07</td>\n",
       "      <td>1.456764e+07</td>\n",
       "      <td>1.456764e+07</td>\n",
       "      <td>14567636.0</td>\n",
       "      <td>14567636.0</td>\n",
       "      <td>1.456764e+07</td>\n",
       "      <td>1.456764e+07</td>\n",
       "      <td>1.456764e+07</td>\n",
       "      <td>1.456764e+07</td>\n",
       "      <td>1.456764e+07</td>\n",
       "      <td>1.456764e+07</td>\n",
       "      <td>1.456764e+07</td>\n",
       "      <td>1.456764e+07</td>\n",
       "    </tr>\n",
       "    <tr>\n",
       "      <th>mean</th>\n",
       "      <td>1.528328e+00</td>\n",
       "      <td>3.874029e+00</td>\n",
       "      <td>-7.397624e+01</td>\n",
       "      <td>4.075072e+01</td>\n",
       "      <td>1.029330e+00</td>\n",
       "      <td>-7.397437e+01</td>\n",
       "      <td>4.075101e+01</td>\n",
       "      <td>1.218589e+01</td>\n",
       "      <td>1.353601e+01</td>\n",
       "      <td>2014.0</td>\n",
       "      <td>3.0</td>\n",
       "      <td>1.590566e+01</td>\n",
       "      <td>4.074580e+01</td>\n",
       "      <td>-7.398132e+01</td>\n",
       "      <td>4.074607e+01</td>\n",
       "      <td>-7.397945e+01</td>\n",
       "      <td>3.152615e+00</td>\n",
       "      <td>3.326060e-01</td>\n",
       "      <td>3.341314e+00</td>\n",
       "    </tr>\n",
       "    <tr>\n",
       "      <th>std</th>\n",
       "      <td>1.084497e+00</td>\n",
       "      <td>2.040333e+03</td>\n",
       "      <td>3.281800e-02</td>\n",
       "      <td>2.667300e-02</td>\n",
       "      <td>3.170100e-01</td>\n",
       "      <td>3.446600e-02</td>\n",
       "      <td>3.168800e-02</td>\n",
       "      <td>9.939481e+00</td>\n",
       "      <td>6.520118e+00</td>\n",
       "      <td>0.0</td>\n",
       "      <td>0.0</td>\n",
       "      <td>8.945232e+00</td>\n",
       "      <td>2.685900e-02</td>\n",
       "      <td>3.282800e-02</td>\n",
       "      <td>3.182600e-02</td>\n",
       "      <td>3.450000e-02</td>\n",
       "      <td>2.029983e+00</td>\n",
       "      <td>4.711470e-01</td>\n",
       "      <td>3.624085e+00</td>\n",
       "    </tr>\n",
       "    <tr>\n",
       "      <th>min</th>\n",
       "      <td>1.000000e+00</td>\n",
       "      <td>0.000000e+00</td>\n",
       "      <td>-7.499645e+01</td>\n",
       "      <td>4.004641e+01</td>\n",
       "      <td>0.000000e+00</td>\n",
       "      <td>-7.499645e+01</td>\n",
       "      <td>4.000129e+01</td>\n",
       "      <td>1.000000e-02</td>\n",
       "      <td>0.000000e+00</td>\n",
       "      <td>2014.0</td>\n",
       "      <td>3.0</td>\n",
       "      <td>1.000000e+00</td>\n",
       "      <td>4.004000e+01</td>\n",
       "      <td>-7.500000e+01</td>\n",
       "      <td>4.000000e+01</td>\n",
       "      <td>-7.500000e+01</td>\n",
       "      <td>0.000000e+00</td>\n",
       "      <td>0.000000e+00</td>\n",
       "      <td>0.000000e+00</td>\n",
       "    </tr>\n",
       "    <tr>\n",
       "      <th>25%</th>\n",
       "      <td>1.000000e+00</td>\n",
       "      <td>1.010000e+00</td>\n",
       "      <td>-7.399229e+01</td>\n",
       "      <td>4.073626e+01</td>\n",
       "      <td>1.000000e+00</td>\n",
       "      <td>-7.399159e+01</td>\n",
       "      <td>4.073477e+01</td>\n",
       "      <td>6.500000e+00</td>\n",
       "      <td>9.000000e+00</td>\n",
       "      <td>2014.0</td>\n",
       "      <td>3.0</td>\n",
       "      <td>8.000000e+00</td>\n",
       "      <td>4.073000e+01</td>\n",
       "      <td>-7.400000e+01</td>\n",
       "      <td>4.073000e+01</td>\n",
       "      <td>-7.400000e+01</td>\n",
       "      <td>1.000000e+00</td>\n",
       "      <td>0.000000e+00</td>\n",
       "      <td>1.255070e+00</td>\n",
       "    </tr>\n",
       "    <tr>\n",
       "      <th>50%</th>\n",
       "      <td>1.000000e+00</td>\n",
       "      <td>1.740000e+00</td>\n",
       "      <td>-7.398225e+01</td>\n",
       "      <td>4.075300e+01</td>\n",
       "      <td>1.000000e+00</td>\n",
       "      <td>-7.398057e+01</td>\n",
       "      <td>4.075348e+01</td>\n",
       "      <td>9.000000e+00</td>\n",
       "      <td>1.400000e+01</td>\n",
       "      <td>2014.0</td>\n",
       "      <td>3.0</td>\n",
       "      <td>1.600000e+01</td>\n",
       "      <td>4.075000e+01</td>\n",
       "      <td>-7.399000e+01</td>\n",
       "      <td>4.075000e+01</td>\n",
       "      <td>-7.399000e+01</td>\n",
       "      <td>3.000000e+00</td>\n",
       "      <td>0.000000e+00</td>\n",
       "      <td>2.158259e+00</td>\n",
       "    </tr>\n",
       "    <tr>\n",
       "      <th>75%</th>\n",
       "      <td>2.000000e+00</td>\n",
       "      <td>3.200000e+00</td>\n",
       "      <td>-7.396896e+01</td>\n",
       "      <td>4.076692e+01</td>\n",
       "      <td>1.000000e+00</td>\n",
       "      <td>-7.396453e+01</td>\n",
       "      <td>4.076837e+01</td>\n",
       "      <td>1.400000e+01</td>\n",
       "      <td>1.900000e+01</td>\n",
       "      <td>2014.0</td>\n",
       "      <td>3.0</td>\n",
       "      <td>2.400000e+01</td>\n",
       "      <td>4.076000e+01</td>\n",
       "      <td>-7.397000e+01</td>\n",
       "      <td>4.076000e+01</td>\n",
       "      <td>-7.397000e+01</td>\n",
       "      <td>5.000000e+00</td>\n",
       "      <td>1.000000e+00</td>\n",
       "      <td>3.940165e+00</td>\n",
       "    </tr>\n",
       "    <tr>\n",
       "      <th>max</th>\n",
       "      <td>5.000000e+00</td>\n",
       "      <td>5.005013e+06</td>\n",
       "      <td>-7.304270e+01</td>\n",
       "      <td>4.189384e+01</td>\n",
       "      <td>2.100000e+02</td>\n",
       "      <td>-7.300692e+01</td>\n",
       "      <td>4.189384e+01</td>\n",
       "      <td>4.800000e+02</td>\n",
       "      <td>2.300000e+01</td>\n",
       "      <td>2014.0</td>\n",
       "      <td>3.0</td>\n",
       "      <td>3.100000e+01</td>\n",
       "      <td>4.189000e+01</td>\n",
       "      <td>-7.305000e+01</td>\n",
       "      <td>4.189000e+01</td>\n",
       "      <td>-7.301000e+01</td>\n",
       "      <td>6.000000e+00</td>\n",
       "      <td>1.000000e+00</td>\n",
       "      <td>1.410381e+02</td>\n",
       "    </tr>\n",
       "  </tbody>\n",
       "</table>\n",
       "</div>"
      ],
      "text/plain": [
       "       passenger_count  trip_distance  pickup_longitude  pickup_latitude  \\\n",
       "count     1.456764e+07   1.456764e+07      1.456764e+07     1.456764e+07   \n",
       "mean      1.528328e+00   3.874029e+00     -7.397624e+01     4.075072e+01   \n",
       "std       1.084497e+00   2.040333e+03      3.281800e-02     2.667300e-02   \n",
       "min       1.000000e+00   0.000000e+00     -7.499645e+01     4.004641e+01   \n",
       "25%       1.000000e+00   1.010000e+00     -7.399229e+01     4.073626e+01   \n",
       "50%       1.000000e+00   1.740000e+00     -7.398225e+01     4.075300e+01   \n",
       "75%       2.000000e+00   3.200000e+00     -7.396896e+01     4.076692e+01   \n",
       "max       5.000000e+00   5.005013e+06     -7.304270e+01     4.189384e+01   \n",
       "\n",
       "          rate_code  dropoff_longitude  dropoff_latitude   fare_amount  \\\n",
       "count  1.456764e+07       1.456764e+07      1.456764e+07  1.456764e+07   \n",
       "mean   1.029330e+00      -7.397437e+01      4.075101e+01  1.218589e+01   \n",
       "std    3.170100e-01       3.446600e-02      3.168800e-02  9.939481e+00   \n",
       "min    0.000000e+00      -7.499645e+01      4.000129e+01  1.000000e-02   \n",
       "25%    1.000000e+00      -7.399159e+01      4.073477e+01  6.500000e+00   \n",
       "50%    1.000000e+00      -7.398057e+01      4.075348e+01  9.000000e+00   \n",
       "75%    1.000000e+00      -7.396453e+01      4.076837e+01  1.400000e+01   \n",
       "max    2.100000e+02      -7.300692e+01      4.189384e+01  4.800000e+02   \n",
       "\n",
       "               hour        year       month           day  pickup_latitude_r  \\\n",
       "count  1.456764e+07  14567636.0  14567636.0  1.456764e+07       1.456764e+07   \n",
       "mean   1.353601e+01      2014.0         3.0  1.590566e+01       4.074580e+01   \n",
       "std    6.520118e+00         0.0         0.0  8.945232e+00       2.685900e-02   \n",
       "min    0.000000e+00      2014.0         3.0  1.000000e+00       4.004000e+01   \n",
       "25%    9.000000e+00      2014.0         3.0  8.000000e+00       4.073000e+01   \n",
       "50%    1.400000e+01      2014.0         3.0  1.600000e+01       4.075000e+01   \n",
       "75%    1.900000e+01      2014.0         3.0  2.400000e+01       4.076000e+01   \n",
       "max    2.300000e+01      2014.0         3.0  3.100000e+01       4.189000e+01   \n",
       "\n",
       "       pickup_longitude_r  dropoff_latitude_r  dropoff_longitude_r  \\\n",
       "count        1.456764e+07        1.456764e+07         1.456764e+07   \n",
       "mean        -7.398132e+01        4.074607e+01        -7.397945e+01   \n",
       "std          3.282800e-02        3.182600e-02         3.450000e-02   \n",
       "min         -7.500000e+01        4.000000e+01        -7.500000e+01   \n",
       "25%         -7.400000e+01        4.073000e+01        -7.400000e+01   \n",
       "50%         -7.399000e+01        4.075000e+01        -7.399000e+01   \n",
       "75%         -7.397000e+01        4.076000e+01        -7.397000e+01   \n",
       "max         -7.305000e+01        4.189000e+01        -7.301000e+01   \n",
       "\n",
       "        day_of_week    is_weekend    h_distance  \n",
       "count  1.456764e+07  1.456764e+07  1.456764e+07  \n",
       "mean   3.152615e+00  3.326060e-01  3.341314e+00  \n",
       "std    2.029983e+00  4.711470e-01  3.624085e+00  \n",
       "min    0.000000e+00  0.000000e+00  0.000000e+00  \n",
       "25%    1.000000e+00  0.000000e+00  1.255070e+00  \n",
       "50%    3.000000e+00  0.000000e+00  2.158259e+00  \n",
       "75%    5.000000e+00  1.000000e+00  3.940165e+00  \n",
       "max    6.000000e+00  1.000000e+00  1.410381e+02  "
      ]
     },
     "execution_count": 28,
     "metadata": {},
     "output_type": "execute_result"
    }
   ],
   "source": [
    "%%time\n",
    "\n",
    "# TODO: Print summary stats from \"taxi_gdf\"\n",
    "\n",
    "# *** Answer:\n",
    "taxi_gdf.describe()"
   ]
  },
  {
   "cell_type": "markdown",
   "metadata": {},
   "source": [
    "# Pick a Training Set\n",
    "\n",
    "Let's imagine you're making a trip to New York on the 24th and want to build a model to predict what fare prices will be like the last few days of the month based on the first part of the month. We'll use a query expression to identify the `day` of the month to use to divide the data into train and test sets.\n",
    "\n",
    "The wall-time below represents how long it takes your GPU cluster to load data from the Google Cloud Storage bucket and the ETL portion of the workflow."
   ]
  },
  {
   "cell_type": "code",
   "execution_count": 214,
   "metadata": {},
   "outputs": [
    {
     "name": "stdout",
     "output_type": "stream",
     "text": [
      "CPU times: user 4.2 s, sys: 1.05 s, total: 5.25 s\n",
      "Wall time: 5.24 s\n"
     ]
    }
   ],
   "source": [
    "%%time\n",
    "from sklearn.model_selection import train_test_split as sk_train_test_split\n",
    "\n",
    "X_np = taxi_df.drop(columns='fare_amount').to_numpy()\n",
    "Y_np = taxi_df[[\"fare_amount\"]].to_numpy()\n",
    "\n",
    "X_train_np, X_test_np, Y_train_np, Y_test_np = sk_train_test_split(X_np, Y_np, test_size=0.2)"
   ]
  },
  {
   "cell_type": "code",
   "execution_count": 217,
   "metadata": {},
   "outputs": [
    {
     "name": "stdout",
     "output_type": "stream",
     "text": [
      "CPU times: user 1.24 s, sys: 109 ms, total: 1.35 s\n",
      "Wall time: 1.37 s\n"
     ]
    }
   ],
   "source": [
    "%%time\n",
    "from cuml.preprocessing.model_selection import train_test_split as cu_train_test_split\n",
    "\n",
    "X_gpu = taxi_gdf.drop(columns='fare_amount').values.astype(\"float32\")\n",
    "Y_gpu = taxi_gdf[[\"fare_amount\"]].values.astype(\"float32\")\n",
    "\n",
    "X_train_gpu, X_test_gpu, Y_train_gpu, Y_test_gpu = cu_train_test_split(X_gpu,\n",
    "                                                                        Y_gpu,\n",
    "                                                                        test_size=0.2)"
   ]
  },
  {
   "cell_type": "markdown",
   "metadata": {},
   "source": [
    "# Demo 4: Cluster and analyze with cuML"
   ]
  },
  {
   "cell_type": "code",
   "execution_count": 218,
   "metadata": {},
   "outputs": [],
   "source": [
    "%matplotlib inline"
   ]
  },
  {
   "cell_type": "code",
   "execution_count": 219,
   "metadata": {},
   "outputs": [],
   "source": [
    "import sklearn, sklearn.cluster\n",
    "from matplotlib import pyplot as plt"
   ]
  },
  {
   "cell_type": "code",
   "execution_count": 220,
   "metadata": {},
   "outputs": [
    {
     "name": "stdout",
     "output_type": "stream",
     "text": [
      "CPU times: user 2min 46s, sys: 1min 53s, total: 4min 39s\n",
      "Wall time: 41.8 s\n"
     ]
    }
   ],
   "source": [
    "%%time\n",
    "# use scikit-learn on CPU\n",
    "\n",
    "sk_kmeans = sklearn.cluster.KMeans(n_clusters=5)\n",
    "train_clusters_cpu = sk_kmeans.fit_predict(X_train_np)"
   ]
  },
  {
   "cell_type": "code",
   "execution_count": 221,
   "metadata": {},
   "outputs": [
    {
     "name": "stdout",
     "output_type": "stream",
     "text": [
      "CPU times: user 438 ms, sys: 227 ms, total: 666 ms\n",
      "Wall time: 663 ms\n"
     ]
    }
   ],
   "source": [
    "%%time\n",
    "# n_samples = 400000\n",
    "\n",
    "# TODO: use cuML on GPU to fit KMeans with 5 clusters (larger dataset)\n",
    "\n",
    "# *** Answer:\n",
    "import cuml.cluster\n",
    "gdf_numeric = gdf.select_dtypes(include=\"float\")\n",
    "cu_kmeans = cuml.cluster.KMeans(n_clusters=5)\n",
    "train_clusters_gpu = cu_kmeans.fit_predict(X_train_gpu)"
   ]
  },
  {
   "cell_type": "code",
   "execution_count": 222,
   "metadata": {},
   "outputs": [
    {
     "data": {
      "text/plain": [
       "<seaborn.axisgrid.FacetGrid at 0x7fa30601cfd0>"
      ]
     },
     "execution_count": 222,
     "metadata": {},
     "output_type": "execute_result"
    },
    {
     "data": {
      "image/png": "[encoded data removed]",
      "text/plain": [
       "<Figure size 762.25x720 with 4 Axes>"
      ]
     },
     "metadata": {
      "needs_background": "light"
     },
     "output_type": "display_data"
    }
   ],
   "source": [
    "# Just take a subset to speed plotting\n",
    "gdf_train_head = X_train_gdf.iloc[:400000]\n",
    "gdf_train_head[\"cluster\"] = train_clusters_gpu[:400000]\n",
    "gdf_train_head[\"short_trip\"] = gdf_train_head[\"trip_distance\"] < 1.01 # About the 25th percentile\n",
    "gdf_train_head[\"is_rush_est\"] = ((gdf_train_head.hour >= 10) & (gdf_train_head.hour <= 14)) | \\\n",
    "                                ((gdf_train_head.hour >= 21) & (gdf_train_head.hour <= 24))\n",
    "\n",
    "# actually do the plot\n",
    "sns.lmplot(\"pickup_longitude\", \"pickup_latitude\", data=gdf_train_head.to_pandas(),\n",
    "           hue=\"cluster\", col=\"is_rush_est\", row=\"short_trip\", fit_reg=False, scatter_kws={\"s\": 10})"
   ]
  },
  {
   "cell_type": "markdown",
   "metadata": {},
   "source": [
    "### Fit a simple supervised model with cuML\n",
    "\n",
    "cuML supports a large range of supervised models, all emulating the scikit-learn interfaces. See the README (https://github.com/rapidsai/cuml) for a recent list. Here, we'll try a very simple model - an ElasticNet regularized regression with both L1 and L2 regularization. As a user exercise, try replacing this with a RandomForestRegressor or a simpler LinearRegression."
   ]
  },
  {
   "cell_type": "code",
   "execution_count": 241,
   "metadata": {},
   "outputs": [],
   "source": [
    "from sklearn.linear_model import ElasticNet as skElasticNet"
   ]
  },
  {
   "cell_type": "code",
   "execution_count": 242,
   "metadata": {},
   "outputs": [
    {
     "name": "stdout",
     "output_type": "stream",
     "text": [
      "CPU times: user 7.11 s, sys: 1.05 s, total: 8.16 s\n",
      "Wall time: 3.56 s\n"
     ]
    },
    {
     "data": {
      "text/plain": [
       "ElasticNet()"
      ]
     },
     "execution_count": 242,
     "metadata": {},
     "output_type": "execute_result"
    }
   ],
   "source": [
    "%%time\n",
    "# Sklearn will parallelize over all CPU cores with n_jobs=-1\n",
    "sk_model = skElasticNet()\n",
    "sk_model.fit(X_train_np, Y_train_np)"
   ]
  },
  {
   "cell_type": "code",
   "execution_count": 243,
   "metadata": {},
   "outputs": [
    {
     "name": "stdout",
     "output_type": "stream",
     "text": [
      "Within-sample (training) R2:  0.740240752696991\n"
     ]
    }
   ],
   "source": [
    "from sklearn.metrics.regression import r2_score as sk_r2_score\n",
    "\n",
    "print(\"Within-sample (training) R2: \", r2_score(Y_test_np, sk_model.predict(X_test_np)))"
   ]
  },
  {
   "cell_type": "code",
   "execution_count": 246,
   "metadata": {},
   "outputs": [
    {
     "name": "stdout",
     "output_type": "stream",
     "text": [
      "CPU times: user 81.2 ms, sys: 80.6 ms, total: 162 ms\n",
      "Wall time: 160 ms\n"
     ]
    },
    {
     "data": {
      "text/plain": [
       "ElasticNet(alpha=0.1, l1_ratio=0.5, fit_intercept=True, normalize=False, max_iter=1000, tol=0.001, selection='cyclic', handle=<cuml.raft.common.handle.Handle object at 0x7fa2f059efd0>, output_type='cupy')"
      ]
     },
     "execution_count": 246,
     "metadata": {},
     "output_type": "execute_result"
    }
   ],
   "source": [
    "%%time\n",
    "\n",
    "# TODO: Build a similar model on GPU with cuML\n",
    "\n",
    "# *** Answer:\n",
    "from cuml.linear_model import ElasticNet as cuElasticNet\n",
    "cu_model = cuElasticNet(alpha=0.1)\n",
    "cu_model.fit(X_train_gpu, Y_train_gpu)"
   ]
  },
  {
   "cell_type": "code",
   "execution_count": 248,
   "metadata": {},
   "outputs": [
    {
     "name": "stdout",
     "output_type": "stream",
     "text": [
      "CPU times: user 3.56 ms, sys: 23.6 ms, total: 27.2 ms\n",
      "Wall time: 25.6 ms\n"
     ]
    },
    {
     "data": {
      "text/plain": [
       "0.7627811431884766"
      ]
     },
     "execution_count": 248,
     "metadata": {},
     "output_type": "execute_result"
    }
   ],
   "source": [
    "%%time\n",
    "\n",
    "# TODO: Predict on the test set and evaluate the predictions' R2 score\n",
    "\n",
    "# *** Answer\n",
    "from cuml.metrics.regression import r2_score\n",
    "\n",
    "Y_hat_gpu = cu_model.predict(X_test_gpu)\n",
    "r2_score(Y_test_gpu, Y_hat_gpu)"
   ]
  },
  {
   "cell_type": "markdown",
   "metadata": {},
   "source": [
    "# Demo 5: Train an  XGBoost Regression Model\n",
    "\n",
    "XGBoost is one of the most popular packages for gradient boosted decision trees. It comes with excellent GPU acceleration out of the box."
   ]
  },
  {
   "cell_type": "code",
   "execution_count": 172,
   "metadata": {},
   "outputs": [
    {
     "name": "stdout",
     "output_type": "stream",
     "text": [
      "Converted to dmatrix\n",
      "[21:18:37] WARNING: /opt/conda/envs/rapids/conda-bld/xgboost_1601407842448/work/src/gbm/gbtree.cc:147: Tree method is automatically selected to be 'approx' for faster speed. To use old behavior (exact greedy algorithm on single machine), set tree_method to 'exact'.\n",
      "CPU times: user 7min 44s, sys: 2min 22s, total: 10min 7s\n",
      "Wall time: 40.6 s\n"
     ]
    }
   ],
   "source": [
    "%%time\n",
    "# Train on CPU (uses all CPUs by default)\n",
    "import xgboost\n",
    "\n",
    "params = {\n",
    " 'learning_rate': 0.3,\n",
    "  'max_depth': 6,\n",
    "\n",
    "  'subsample': 0.6,\n",
    "  'gamma': 1\n",
    "}\n",
    "\n",
    "train_dmat = xgboost.DMatrix(X_train_np, Y_train_np, feature_names=X_train_df.columns)\n",
    "print(\"Converted to dmatrix\")\n",
    "trained_model = xgboost.train(params, train_dmat, num_boost_round=5)"
   ]
  },
  {
   "cell_type": "code",
   "execution_count": 197,
   "metadata": {},
   "outputs": [
    {
     "name": "stdout",
     "output_type": "stream",
     "text": [
      "Converted to dmatrix\n",
      "CPU times: user 13 s, sys: 8.08 s, total: 21.1 s\n",
      "Wall time: 8.76 s\n"
     ]
    }
   ],
   "source": [
    "%%time\n",
    "\n",
    "# TODO: retrain on GPU for more rounds, saving model as trained_model_gpus\n",
    "\n",
    "# *** Answer:\n",
    "params = {\n",
    " 'learning_rate': 0.3,\n",
    "  'max_depth': 6,\n",
    "  'tree_method': 'gpu_hist',\n",
    "  'subsample': 0.6,\n",
    "  'gamma': 1\n",
    "}\n",
    "\n",
    "train_dmat = xgboost.DMatrix(X_train_np, Y_train_np, feature_names=X_train_df.columns)\n",
    "print(\"Converted to dmatrix\")\n",
    "trained_model_gpu = xgboost.train(params, train_dmat, num_boost_round=50)"
   ]
  },
  {
   "cell_type": "markdown",
   "metadata": {},
   "source": [
    "# How Good is Our Model?\n",
    "\n",
    "Now that we have a trained model, we need to test it with the ecords we held out."
   ]
  },
  {
   "cell_type": "code",
   "execution_count": 198,
   "metadata": {},
   "outputs": [
    {
     "name": "stdout",
     "output_type": "stream",
     "text": [
      "CPU times: user 67.6 ms, sys: 7.78 ms, total: 75.4 ms\n",
      "Wall time: 73.6 ms\n"
     ]
    }
   ],
   "source": [
    "%%time\n",
    "\n",
    "# TODO: generate predictions on the test set as Y_test_gdf['prediction']\n",
    "\n",
    "# *** Answer:\n",
    "# Note that we can pass in a cuDF dataframe withotu conversion\n",
    "test_dmat = xgboost.DMatrix(X_test_gdf)\n",
    "\n",
    "Y_test_gdf['prediction'] = trained_model_gpu.predict(test_dmat)"
   ]
  },
  {
   "cell_type": "code",
   "execution_count": 199,
   "metadata": {},
   "outputs": [
    {
     "data": {
      "text/plain": [
       "813929       9.263096\n",
       "835025      10.238948\n",
       "837538       8.353477\n",
       "838538      19.707085\n",
       "840424       8.027554\n",
       "              ...    \n",
       "15426937     5.512997\n",
       "15426938     4.308615\n",
       "15426939    13.304368\n",
       "15426940     9.101547\n",
       "15426941    11.307952\n",
       "Name: prediction, Length: 3691100, dtype: float32"
      ]
     },
     "execution_count": 199,
     "metadata": {},
     "output_type": "execute_result"
    }
   ],
   "source": [
    "Y_test_gdf['prediction']"
   ]
  },
  {
   "cell_type": "markdown",
   "metadata": {},
   "source": [
    "# Compute Root Mean Squared Error"
   ]
  },
  {
   "cell_type": "code",
   "execution_count": 200,
   "metadata": {},
   "outputs": [
    {
     "data": {
      "text/html": [
       "<div>\n",
       "<style scoped>\n",
       "    .dataframe tbody tr th:only-of-type {\n",
       "        vertical-align: middle;\n",
       "    }\n",
       "\n",
       "    .dataframe tbody tr th {\n",
       "        vertical-align: top;\n",
       "    }\n",
       "\n",
       "    .dataframe thead th {\n",
       "        text-align: right;\n",
       "    }\n",
       "</style>\n",
       "<table border=\"1\" class=\"dataframe\">\n",
       "  <thead>\n",
       "    <tr style=\"text-align: right;\">\n",
       "      <th></th>\n",
       "      <th>fare_amount</th>\n",
       "      <th>prediction</th>\n",
       "      <th>squared_error</th>\n",
       "    </tr>\n",
       "  </thead>\n",
       "  <tbody>\n",
       "    <tr>\n",
       "      <th>813929</th>\n",
       "      <td>9.0</td>\n",
       "      <td>9.263096</td>\n",
       "      <td>0.069219</td>\n",
       "    </tr>\n",
       "    <tr>\n",
       "      <th>835025</th>\n",
       "      <td>9.5</td>\n",
       "      <td>10.238948</td>\n",
       "      <td>0.546044</td>\n",
       "    </tr>\n",
       "    <tr>\n",
       "      <th>837538</th>\n",
       "      <td>8.5</td>\n",
       "      <td>8.353477</td>\n",
       "      <td>0.021469</td>\n",
       "    </tr>\n",
       "    <tr>\n",
       "      <th>838538</th>\n",
       "      <td>23.0</td>\n",
       "      <td>19.707085</td>\n",
       "      <td>10.843291</td>\n",
       "    </tr>\n",
       "    <tr>\n",
       "      <th>840424</th>\n",
       "      <td>9.0</td>\n",
       "      <td>8.027554</td>\n",
       "      <td>0.945652</td>\n",
       "    </tr>\n",
       "  </tbody>\n",
       "</table>\n",
       "</div>"
      ],
      "text/plain": [
       "        fare_amount  prediction  squared_error\n",
       "813929          9.0    9.263096       0.069219\n",
       "835025          9.5   10.238948       0.546044\n",
       "837538          8.5    8.353477       0.021469\n",
       "838538         23.0   19.707085      10.843291\n",
       "840424          9.0    8.027554       0.945652"
      ]
     },
     "execution_count": 200,
     "metadata": {},
     "output_type": "execute_result"
    }
   ],
   "source": [
    "Y_test_gdf[\"squared_error\"] = (Y_test_gdf['prediction'] - Y_test_gdf['fare_amount'])**2\n",
    "\n",
    "# inspect the results to make sure our calculation looks right\n",
    "Y_test_gdf.head()"
   ]
  },
  {
   "cell_type": "code",
   "execution_count": 201,
   "metadata": {},
   "outputs": [
    {
     "data": {
      "text/plain": [
       "2.1353587768950693"
      ]
     },
     "execution_count": 201,
     "metadata": {},
     "output_type": "execute_result"
    }
   ],
   "source": [
    "# compute the actual RMSE over the full test set\n",
    "np.sqrt(Y_test_gdf.squared_error.mean())"
   ]
  },
  {
   "cell_type": "markdown",
   "metadata": {},
   "source": [
    "# Save Trained Model for Later Use\n",
    "\n",
    "To make a model maximally useful, you need to be able to save it for later use."
   ]
  },
  {
   "cell_type": "code",
   "execution_count": 202,
   "metadata": {},
   "outputs": [],
   "source": [
    "# Save model\n",
    "trained_model_gpu.save_model(\"output.model\")"
   ]
  }
 ],
 "metadata": {
  "kernelspec": {
   "display_name": "Python 3",
   "language": "python",
   "name": "python3"
  },
  "language_info": {
   "codemirror_mode": {
    "name": "ipython",
    "version": 3
   },
   "file_extension": ".py",
   "mimetype": "text/x-python",
   "name": "python",
   "nbconvert_exporter": "python",
   "pygments_lexer": "ipython3",
   "version": "3.7.8"
  }
 },
 "nbformat": 4,
 "nbformat_minor": 4
}
