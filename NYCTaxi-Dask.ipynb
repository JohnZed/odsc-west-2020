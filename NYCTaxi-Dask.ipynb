{
 "cells": [
  {
   "cell_type": "markdown",
   "metadata": {},
   "source": [
    "# NYC Taxi Dataset - Dask for Multi GPU"
   ]
  },
  {
   "cell_type": "markdown",
   "metadata": {},
   "source": [
    "# Demo 6: A quick intro to Dask + RAPIDS\n",
    "\n",
    "Dask is a sophisticated package for parallel computation with a number of different datatypes. For much more detail, see: https://tutorial.dask.org/\n",
    "\n",
    "In these examples, we'll focus on the basics of `dask_cudf` and `dask_cuda`"
   ]
  },
  {
   "cell_type": "code",
   "execution_count": null,
   "metadata": {},
   "outputs": [],
   "source": [
    "import numpy as np\n",
    "import pandas as pd\n",
    "import cuml\n",
    "import cudf\n",
    "import os"
   ]
  },
  {
   "cell_type": "code",
   "execution_count": null,
   "metadata": {},
   "outputs": [],
   "source": [
    "import dask_cudf"
   ]
  },
  {
   "cell_type": "code",
   "execution_count": null,
   "metadata": {},
   "outputs": [],
   "source": [
    "import dask, dask_cudf\n",
    "from dask_cuda import LocalCUDACluster\n",
    "from dask.distributed import Client, wait\n",
    "\n",
    "# dask_cudf and dask_cuda are included in the RAPIDS distribution"
   ]
  },
  {
   "cell_type": "code",
   "execution_count": null,
   "metadata": {},
   "outputs": [],
   "source": [
    "# Setup a cluster and connect a client to it\n",
    "# This will create one \"worker\" per GPU in your system, allowing you to parallelize tasks over them.\n",
    "\n",
    "cluster = LocalCUDACluster()\n",
    "client = Client(cluster)"
   ]
  },
  {
   "cell_type": "code",
   "execution_count": null,
   "metadata": {},
   "outputs": [],
   "source": [
    "client"
   ]
  },
  {
   "cell_type": "code",
   "execution_count": null,
   "metadata": {},
   "outputs": [],
   "source": [
    "%%time\n",
    "\n",
    "ddf = dask_cudf.read_orc(\"yellow_tripdata_2014-03-cleaned.orc\") # Alternative local approach\n",
    "# ddf = dask_cudf.read_orc('https://odsc-sample-data.s3-us-west-2.amazonaws.com/yellow_tripdata_2014-03-cleaned.orc')\n"
   ]
  },
  {
   "cell_type": "code",
   "execution_count": null,
   "metadata": {},
   "outputs": [],
   "source": [
    "len(ddf)"
   ]
  },
  {
   "cell_type": "code",
   "execution_count": null,
   "metadata": {},
   "outputs": [],
   "source": [
    "# Compute a simple histogram of passengers\n",
    "\n",
    "value_counts = ddf.passenger_count.value_counts()\n",
    "print(value_counts)\n",
    "\n",
    "# TODO: ** Now actually show the results here\n",
    "print(value_counts.compute())"
   ]
  },
  {
   "cell_type": "markdown",
   "metadata": {},
   "source": [
    "## Machine learning with Dask\n",
    "\n",
    "We'll show a simple demo of cuML's Random Forest, used in a distributed context. See https://docs.rapids.ai/api/cuml/stable/ for more details on the API, or the blog post (https://medium.com/rapids-ai/accelerating-random-forests-up-to-45x-using-cuml-dfb782a31bea) for implementation details."
   ]
  },
  {
   "cell_type": "code",
   "execution_count": null,
   "metadata": {},
   "outputs": [],
   "source": [
    "prediction_cols = [\"passenger_count\", \"trip_distance\", \"rate_code\", \"fare_amount\",\n",
    "                   \"dropoff_latitude\", \"dropoff_longitude\"]"
   ]
  },
  {
   "cell_type": "code",
   "execution_count": null,
   "metadata": {},
   "outputs": [],
   "source": [
    "%%time\n",
    "X_ddf = ddf[prediction_cols]\n",
    "\n",
    "# Convert everything to float32\n",
    "for c in X_ddf.columns:\n",
    "    X_ddf[c] = X_ddf[c].astype(\"float32\")\n",
    "\n",
    "Y_ddf = X_ddf[\"fare_amount\"]\n",
    "X_ddf = X_ddf.drop(columns=\"fare_amount\")\n",
    "\n",
    "X_ddf, y_ddf = client.persist([X_ddf, Y_ddf]) # Trigger the computation and cache in RAM\n",
    "_ = wait([X_ddf, y_ddf]) # Actually wait for persistence to finish"
   ]
  },
  {
   "cell_type": "code",
   "execution_count": null,
   "metadata": {},
   "outputs": [],
   "source": [
    "import cuml.dask.ensemble"
   ]
  },
  {
   "cell_type": "code",
   "execution_count": null,
   "metadata": {},
   "outputs": [],
   "source": [
    "model = cuml.dask.ensemble.RandomForestRegressor()\n",
    "model.fit(X_ddf, y_ddf)"
   ]
  },
  {
   "cell_type": "code",
   "execution_count": null,
   "metadata": {},
   "outputs": [],
   "source": [
    "# TODO: predict (in-sample on training data) and compute an R2 score to make sure we've fit"
   ]
  }
 ],
 "metadata": {
  "kernelspec": {
   "display_name": "Python 3",
   "language": "python",
   "name": "python3"
  },
  "language_info": {
   "codemirror_mode": {
    "name": "ipython",
    "version": 3
   },
   "file_extension": ".py",
   "mimetype": "text/x-python",
   "name": "python",
   "nbconvert_exporter": "python",
   "pygments_lexer": "ipython3",
   "version": "3.7.8"
  }
 },
 "nbformat": 4,
 "nbformat_minor": 4
}
