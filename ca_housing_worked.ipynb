{
 "cells": [
  {
   "cell_type": "markdown",
   "metadata": {},
   "source": [
    "# RAPIDS Hands-on Example Notebook Answers\n",
    "\n",
    "This notebook provides a hands-on demonstration of an ETL and ML workflow using the RAPIDS ecosystem. We will be using the California Housing Prices dataset from Scikit-learn to create a model which will predict housing prices. We will also cluster and visualize the data."
   ]
  },
  {
   "cell_type": "markdown",
   "metadata": {},
   "source": [
    "We first load the California Housing Prices dataset into Pandas dataframes on the CPU"
   ]
  },
  {
   "cell_type": "code",
   "execution_count": 1,
   "metadata": {},
   "outputs": [],
   "source": [
    "from sklearn.datasets import fetch_california_housing\n",
    "\n",
    "dataset = fetch_california_housing(as_frame=True)\n",
    "\n",
    "X_cpu = dataset['data']\n",
    "y_cpu = dataset['target']"
   ]
  },
  {
   "cell_type": "code",
   "execution_count": 2,
   "metadata": {},
   "outputs": [
    {
     "data": {
      "text/html": [
       "<div>\n",
       "<style scoped>\n",
       "    .dataframe tbody tr th:only-of-type {\n",
       "        vertical-align: middle;\n",
       "    }\n",
       "\n",
       "    .dataframe tbody tr th {\n",
       "        vertical-align: top;\n",
       "    }\n",
       "\n",
       "    .dataframe thead th {\n",
       "        text-align: right;\n",
       "    }\n",
       "</style>\n",
       "<table border=\"1\" class=\"dataframe\">\n",
       "  <thead>\n",
       "    <tr style=\"text-align: right;\">\n",
       "      <th></th>\n",
       "      <th>MedInc</th>\n",
       "      <th>HouseAge</th>\n",
       "      <th>AveRooms</th>\n",
       "      <th>AveBedrms</th>\n",
       "      <th>Population</th>\n",
       "      <th>AveOccup</th>\n",
       "      <th>Latitude</th>\n",
       "      <th>Longitude</th>\n",
       "    </tr>\n",
       "  </thead>\n",
       "  <tbody>\n",
       "    <tr>\n",
       "      <th>0</th>\n",
       "      <td>8.3252</td>\n",
       "      <td>41.0</td>\n",
       "      <td>6.984127</td>\n",
       "      <td>1.023810</td>\n",
       "      <td>322.0</td>\n",
       "      <td>2.555556</td>\n",
       "      <td>37.88</td>\n",
       "      <td>-122.23</td>\n",
       "    </tr>\n",
       "    <tr>\n",
       "      <th>1</th>\n",
       "      <td>8.3014</td>\n",
       "      <td>21.0</td>\n",
       "      <td>6.238137</td>\n",
       "      <td>0.971880</td>\n",
       "      <td>2401.0</td>\n",
       "      <td>2.109842</td>\n",
       "      <td>37.86</td>\n",
       "      <td>-122.22</td>\n",
       "    </tr>\n",
       "    <tr>\n",
       "      <th>2</th>\n",
       "      <td>7.2574</td>\n",
       "      <td>52.0</td>\n",
       "      <td>8.288136</td>\n",
       "      <td>1.073446</td>\n",
       "      <td>496.0</td>\n",
       "      <td>2.802260</td>\n",
       "      <td>37.85</td>\n",
       "      <td>-122.24</td>\n",
       "    </tr>\n",
       "    <tr>\n",
       "      <th>3</th>\n",
       "      <td>5.6431</td>\n",
       "      <td>52.0</td>\n",
       "      <td>5.817352</td>\n",
       "      <td>1.073059</td>\n",
       "      <td>558.0</td>\n",
       "      <td>2.547945</td>\n",
       "      <td>37.85</td>\n",
       "      <td>-122.25</td>\n",
       "    </tr>\n",
       "    <tr>\n",
       "      <th>4</th>\n",
       "      <td>3.8462</td>\n",
       "      <td>52.0</td>\n",
       "      <td>6.281853</td>\n",
       "      <td>1.081081</td>\n",
       "      <td>565.0</td>\n",
       "      <td>2.181467</td>\n",
       "      <td>37.85</td>\n",
       "      <td>-122.25</td>\n",
       "    </tr>\n",
       "    <tr>\n",
       "      <th>...</th>\n",
       "      <td>...</td>\n",
       "      <td>...</td>\n",
       "      <td>...</td>\n",
       "      <td>...</td>\n",
       "      <td>...</td>\n",
       "      <td>...</td>\n",
       "      <td>...</td>\n",
       "      <td>...</td>\n",
       "    </tr>\n",
       "    <tr>\n",
       "      <th>20635</th>\n",
       "      <td>1.5603</td>\n",
       "      <td>25.0</td>\n",
       "      <td>5.045455</td>\n",
       "      <td>1.133333</td>\n",
       "      <td>845.0</td>\n",
       "      <td>2.560606</td>\n",
       "      <td>39.48</td>\n",
       "      <td>-121.09</td>\n",
       "    </tr>\n",
       "    <tr>\n",
       "      <th>20636</th>\n",
       "      <td>2.5568</td>\n",
       "      <td>18.0</td>\n",
       "      <td>6.114035</td>\n",
       "      <td>1.315789</td>\n",
       "      <td>356.0</td>\n",
       "      <td>3.122807</td>\n",
       "      <td>39.49</td>\n",
       "      <td>-121.21</td>\n",
       "    </tr>\n",
       "    <tr>\n",
       "      <th>20637</th>\n",
       "      <td>1.7000</td>\n",
       "      <td>17.0</td>\n",
       "      <td>5.205543</td>\n",
       "      <td>1.120092</td>\n",
       "      <td>1007.0</td>\n",
       "      <td>2.325635</td>\n",
       "      <td>39.43</td>\n",
       "      <td>-121.22</td>\n",
       "    </tr>\n",
       "    <tr>\n",
       "      <th>20638</th>\n",
       "      <td>1.8672</td>\n",
       "      <td>18.0</td>\n",
       "      <td>5.329513</td>\n",
       "      <td>1.171920</td>\n",
       "      <td>741.0</td>\n",
       "      <td>2.123209</td>\n",
       "      <td>39.43</td>\n",
       "      <td>-121.32</td>\n",
       "    </tr>\n",
       "    <tr>\n",
       "      <th>20639</th>\n",
       "      <td>2.3886</td>\n",
       "      <td>16.0</td>\n",
       "      <td>5.254717</td>\n",
       "      <td>1.162264</td>\n",
       "      <td>1387.0</td>\n",
       "      <td>2.616981</td>\n",
       "      <td>39.37</td>\n",
       "      <td>-121.24</td>\n",
       "    </tr>\n",
       "  </tbody>\n",
       "</table>\n",
       "<p>20640 rows × 8 columns</p>\n",
       "</div>"
      ],
      "text/plain": [
       "       MedInc  HouseAge  AveRooms  AveBedrms  Population  AveOccup  Latitude  \\\n",
       "0      8.3252      41.0  6.984127   1.023810       322.0  2.555556     37.88   \n",
       "1      8.3014      21.0  6.238137   0.971880      2401.0  2.109842     37.86   \n",
       "2      7.2574      52.0  8.288136   1.073446       496.0  2.802260     37.85   \n",
       "3      5.6431      52.0  5.817352   1.073059       558.0  2.547945     37.85   \n",
       "4      3.8462      52.0  6.281853   1.081081       565.0  2.181467     37.85   \n",
       "...       ...       ...       ...        ...         ...       ...       ...   \n",
       "20635  1.5603      25.0  5.045455   1.133333       845.0  2.560606     39.48   \n",
       "20636  2.5568      18.0  6.114035   1.315789       356.0  3.122807     39.49   \n",
       "20637  1.7000      17.0  5.205543   1.120092      1007.0  2.325635     39.43   \n",
       "20638  1.8672      18.0  5.329513   1.171920       741.0  2.123209     39.43   \n",
       "20639  2.3886      16.0  5.254717   1.162264      1387.0  2.616981     39.37   \n",
       "\n",
       "       Longitude  \n",
       "0        -122.23  \n",
       "1        -122.22  \n",
       "2        -122.24  \n",
       "3        -122.25  \n",
       "4        -122.25  \n",
       "...          ...  \n",
       "20635    -121.09  \n",
       "20636    -121.21  \n",
       "20637    -121.22  \n",
       "20638    -121.32  \n",
       "20639    -121.24  \n",
       "\n",
       "[20640 rows x 8 columns]"
      ]
     },
     "execution_count": 2,
     "metadata": {},
     "output_type": "execute_result"
    }
   ],
   "source": [
    "X_cpu"
   ]
  },
  {
   "cell_type": "code",
   "execution_count": 3,
   "metadata": {},
   "outputs": [
    {
     "data": {
      "text/plain": [
       "0        4.526\n",
       "1        3.585\n",
       "2        3.521\n",
       "3        3.413\n",
       "4        3.422\n",
       "         ...  \n",
       "20635    0.781\n",
       "20636    0.771\n",
       "20637    0.923\n",
       "20638    0.847\n",
       "20639    0.894\n",
       "Name: MedHouseVal, Length: 20640, dtype: float64"
      ]
     },
     "execution_count": 3,
     "metadata": {},
     "output_type": "execute_result"
    }
   ],
   "source": [
    "y_cpu"
   ]
  },
  {
   "cell_type": "code",
   "execution_count": 12,
   "metadata": {},
   "outputs": [],
   "source": [
    "import seaborn as sns\n",
    "import matplotlib.pyplot as plt"
   ]
  },
  {
   "cell_type": "code",
   "execution_count": 28,
   "metadata": {},
   "outputs": [
    {
     "data": {
      "image/png": "[encoded data removed]",
      "text/plain": [
       "<Figure size 1440x1080 with 9 Axes>"
      ]
     },
     "metadata": {
      "needs_background": "light"
     },
     "output_type": "display_data"
    }
   ],
   "source": [
    "fig, axes = plt.subplots(nrows=3, ncols=3, figsize=(20,15))\n",
    "for i, col in enumerate(X_cpu.columns):\n",
    "    sns.kdeplot(X_cpu[col], ax=axes[i//3,i%3])"
   ]
  },
  {
   "cell_type": "markdown",
   "metadata": {},
   "source": [
    "Next, we convert the Pandas dataframes into cuDF dataframes on the GPU. This is done using `cudf.Dataframe.from_pandas()` and `cudf.Series.from_pandas()`"
   ]
  },
  {
   "cell_type": "code",
   "execution_count": 4,
   "metadata": {},
   "outputs": [],
   "source": [
    "import cudf"
   ]
  },
  {
   "cell_type": "code",
   "execution_count": 5,
   "metadata": {},
   "outputs": [],
   "source": [
    "X = cudf.DataFrame.from_pandas(X_cpu)\n",
    "y = cudf.Series.from_pandas(y_cpu)"
   ]
  },
  {
   "cell_type": "markdown",
   "metadata": {},
   "source": [
    "Next, let's perform some filtering of the geo-coordinates. Let's filter X to include everything with Latitude between (36, 40) and Longitude between (-123, -120). Also make sure to filter `y` to keep only those fields which have been kept in `X`."
   ]
  },
  {
   "cell_type": "code",
   "execution_count": 6,
   "metadata": {},
   "outputs": [],
   "source": [
    "X = X.query('Latitude > 36 and Latitude < 40 and Longitude > -123 and Longitude < -120')\n",
    "y = y[X.index]"
   ]
  },
  {
   "cell_type": "markdown",
   "metadata": {},
   "source": [
    "Let's perform some light feature engineering by normalizing all the feature columns into z-scores"
   ]
  },
  {
   "cell_type": "code",
   "execution_count": 7,
   "metadata": {},
   "outputs": [],
   "source": [
    "for col in X.columns:\n",
    "    X[col] = ((X[col] - X[col].mean()) / X[col].std()).astype('float32')"
   ]
  },
  {
   "cell_type": "code",
   "execution_count": 8,
   "metadata": {},
   "outputs": [
    {
     "data": {
      "text/html": [
       "<div>\n",
       "<style scoped>\n",
       "    .dataframe tbody tr th:only-of-type {\n",
       "        vertical-align: middle;\n",
       "    }\n",
       "\n",
       "    .dataframe tbody tr th {\n",
       "        vertical-align: top;\n",
       "    }\n",
       "\n",
       "    .dataframe thead th {\n",
       "        text-align: right;\n",
       "    }\n",
       "</style>\n",
       "<table border=\"1\" class=\"dataframe\">\n",
       "  <thead>\n",
       "    <tr style=\"text-align: right;\">\n",
       "      <th></th>\n",
       "      <th>MedInc</th>\n",
       "      <th>HouseAge</th>\n",
       "      <th>AveRooms</th>\n",
       "      <th>AveBedrms</th>\n",
       "      <th>Population</th>\n",
       "      <th>AveOccup</th>\n",
       "      <th>Latitude</th>\n",
       "      <th>Longitude</th>\n",
       "    </tr>\n",
       "  </thead>\n",
       "  <tbody>\n",
       "    <tr>\n",
       "      <th>0</th>\n",
       "      <td>2.282937</td>\n",
       "      <td>0.840348</td>\n",
       "      <td>0.432496</td>\n",
       "      <td>-0.124766</td>\n",
       "      <td>-0.927041</td>\n",
       "      <td>-0.029350</td>\n",
       "      <td>-0.061302</td>\n",
       "      <td>-0.665338</td>\n",
       "    </tr>\n",
       "    <tr>\n",
       "      <th>1</th>\n",
       "      <td>2.270447</td>\n",
       "      <td>-0.638101</td>\n",
       "      <td>0.194785</td>\n",
       "      <td>-0.209089</td>\n",
       "      <td>1.010284</td>\n",
       "      <td>-0.059683</td>\n",
       "      <td>-0.092320</td>\n",
       "      <td>-0.648488</td>\n",
       "    </tr>\n",
       "    <tr>\n",
       "      <th>2</th>\n",
       "      <td>1.722561</td>\n",
       "      <td>1.653495</td>\n",
       "      <td>0.848020</td>\n",
       "      <td>-0.044166</td>\n",
       "      <td>-0.764898</td>\n",
       "      <td>-0.012561</td>\n",
       "      <td>-0.107830</td>\n",
       "      <td>-0.682189</td>\n",
       "    </tr>\n",
       "    <tr>\n",
       "      <th>3</th>\n",
       "      <td>0.875385</td>\n",
       "      <td>1.653495</td>\n",
       "      <td>0.060701</td>\n",
       "      <td>-0.044794</td>\n",
       "      <td>-0.707123</td>\n",
       "      <td>-0.029868</td>\n",
       "      <td>-0.107830</td>\n",
       "      <td>-0.699039</td>\n",
       "    </tr>\n",
       "    <tr>\n",
       "      <th>4</th>\n",
       "      <td>-0.067618</td>\n",
       "      <td>1.653495</td>\n",
       "      <td>0.208715</td>\n",
       "      <td>-0.031768</td>\n",
       "      <td>-0.700600</td>\n",
       "      <td>-0.054808</td>\n",
       "      <td>-0.107830</td>\n",
       "      <td>-0.699039</td>\n",
       "    </tr>\n",
       "    <tr>\n",
       "      <th>...</th>\n",
       "      <td>...</td>\n",
       "      <td>...</td>\n",
       "      <td>...</td>\n",
       "      <td>...</td>\n",
       "      <td>...</td>\n",
       "      <td>...</td>\n",
       "      <td>...</td>\n",
       "      <td>...</td>\n",
       "    </tr>\n",
       "    <tr>\n",
       "      <th>20635</th>\n",
       "      <td>-1.267246</td>\n",
       "      <td>-0.342411</td>\n",
       "      <td>-0.185265</td>\n",
       "      <td>0.053080</td>\n",
       "      <td>-0.439681</td>\n",
       "      <td>-0.029006</td>\n",
       "      <td>2.420191</td>\n",
       "      <td>1.255575</td>\n",
       "    </tr>\n",
       "    <tr>\n",
       "      <th>20636</th>\n",
       "      <td>-0.744288</td>\n",
       "      <td>-0.859868</td>\n",
       "      <td>0.155239</td>\n",
       "      <td>0.349354</td>\n",
       "      <td>-0.895358</td>\n",
       "      <td>0.009253</td>\n",
       "      <td>2.435700</td>\n",
       "      <td>1.053374</td>\n",
       "    </tr>\n",
       "    <tr>\n",
       "      <th>20637</th>\n",
       "      <td>-1.193932</td>\n",
       "      <td>-0.933790</td>\n",
       "      <td>-0.134253</td>\n",
       "      <td>0.031579</td>\n",
       "      <td>-0.288721</td>\n",
       "      <td>-0.044997</td>\n",
       "      <td>2.342644</td>\n",
       "      <td>1.036524</td>\n",
       "    </tr>\n",
       "    <tr>\n",
       "      <th>20638</th>\n",
       "      <td>-1.106186</td>\n",
       "      <td>-0.859868</td>\n",
       "      <td>-0.094750</td>\n",
       "      <td>0.115737</td>\n",
       "      <td>-0.536594</td>\n",
       "      <td>-0.058773</td>\n",
       "      <td>2.342644</td>\n",
       "      <td>0.868023</td>\n",
       "    </tr>\n",
       "    <tr>\n",
       "      <th>20639</th>\n",
       "      <td>-0.832558</td>\n",
       "      <td>-1.007713</td>\n",
       "      <td>-0.118584</td>\n",
       "      <td>0.100058</td>\n",
       "      <td>0.065384</td>\n",
       "      <td>-0.025170</td>\n",
       "      <td>2.249588</td>\n",
       "      <td>1.002824</td>\n",
       "    </tr>\n",
       "  </tbody>\n",
       "</table>\n",
       "<p>7400 rows × 8 columns</p>\n",
       "</div>"
      ],
      "text/plain": [
       "         MedInc  HouseAge  AveRooms  AveBedrms  Population  AveOccup  \\\n",
       "0      2.282937  0.840348  0.432496  -0.124766   -0.927041 -0.029350   \n",
       "1      2.270447 -0.638101  0.194785  -0.209089    1.010284 -0.059683   \n",
       "2      1.722561  1.653495  0.848020  -0.044166   -0.764898 -0.012561   \n",
       "3      0.875385  1.653495  0.060701  -0.044794   -0.707123 -0.029868   \n",
       "4     -0.067618  1.653495  0.208715  -0.031768   -0.700600 -0.054808   \n",
       "...         ...       ...       ...        ...         ...       ...   \n",
       "20635 -1.267246 -0.342411 -0.185265   0.053080   -0.439681 -0.029006   \n",
       "20636 -0.744288 -0.859868  0.155239   0.349354   -0.895358  0.009253   \n",
       "20637 -1.193932 -0.933790 -0.134253   0.031579   -0.288721 -0.044997   \n",
       "20638 -1.106186 -0.859868 -0.094750   0.115737   -0.536594 -0.058773   \n",
       "20639 -0.832558 -1.007713 -0.118584   0.100058    0.065384 -0.025170   \n",
       "\n",
       "       Latitude  Longitude  \n",
       "0     -0.061302  -0.665338  \n",
       "1     -0.092320  -0.648488  \n",
       "2     -0.107830  -0.682189  \n",
       "3     -0.107830  -0.699039  \n",
       "4     -0.107830  -0.699039  \n",
       "...         ...        ...  \n",
       "20635  2.420191   1.255575  \n",
       "20636  2.435700   1.053374  \n",
       "20637  2.342644   1.036524  \n",
       "20638  2.342644   0.868023  \n",
       "20639  2.249588   1.002824  \n",
       "\n",
       "[7400 rows x 8 columns]"
      ]
     },
     "execution_count": 8,
     "metadata": {},
     "output_type": "execute_result"
    }
   ],
   "source": [
    "X"
   ]
  },
  {
   "cell_type": "code",
   "execution_count": 9,
   "metadata": {},
   "outputs": [],
   "source": [
    "import cuml "
   ]
  },
  {
   "cell_type": "code",
   "execution_count": 10,
   "metadata": {},
   "outputs": [],
   "source": [
    "pca = cuml.decomposition.PCA(n_components=X.shape[1])\n",
    "reduced = pca.fit_transform(X)"
   ]
  },
  {
   "cell_type": "code",
   "execution_count": 11,
   "metadata": {},
   "outputs": [
    {
     "data": {
      "text/plain": [
       "0    2.053467\n",
       "1    1.423740\n",
       "2    1.358875\n",
       "3    1.004003\n",
       "4    0.865421\n",
       "5    0.813841\n",
       "6    0.438986\n",
       "7    0.041667\n",
       "dtype: float32"
      ]
     },
     "execution_count": 11,
     "metadata": {},
     "output_type": "execute_result"
    }
   ],
   "source": [
    "pca.explained_variance_"
   ]
  },
  {
   "cell_type": "code",
   "execution_count": 12,
   "metadata": {},
   "outputs": [],
   "source": [
    "kmeans = cuml.cluster.KMeans(n_clusters=5)\n",
    "clusters = kmeans.fit_predict(X)"
   ]
  },
  {
   "cell_type": "code",
   "execution_count": 13,
   "metadata": {},
   "outputs": [
    {
     "data": {
      "text/plain": [
       "<matplotlib.collections.PathCollection at 0x7f3449f80cd0>"
      ]
     },
     "execution_count": 13,
     "metadata": {},
     "output_type": "execute_result"
    },
    {
     "data": {
      "image/png": "[encoded data removed]",
      "text/plain": [
       "<Figure size 432x288 with 1 Axes>"
      ]
     },
     "metadata": {
      "needs_background": "light"
     },
     "output_type": "display_data"
    }
   ],
   "source": [
    "import matplotlib.pyplot as plt\n",
    "plt.scatter(X['Latitude'].to_pandas(), X['Longitude'].to_pandas(), c=clusters.to_pandas(), s=0.4)"
   ]
  },
  {
   "cell_type": "markdown",
   "metadata": {},
   "source": [
    "We no longer need the `Latitude` and `Longitude` columns, so let's drop them from the DataFrame"
   ]
  },
  {
   "cell_type": "code",
   "execution_count": 14,
   "metadata": {},
   "outputs": [
    {
     "data": {
      "text/html": [
       "<div>\n",
       "<style scoped>\n",
       "    .dataframe tbody tr th:only-of-type {\n",
       "        vertical-align: middle;\n",
       "    }\n",
       "\n",
       "    .dataframe tbody tr th {\n",
       "        vertical-align: top;\n",
       "    }\n",
       "\n",
       "    .dataframe thead th {\n",
       "        text-align: right;\n",
       "    }\n",
       "</style>\n",
       "<table border=\"1\" class=\"dataframe\">\n",
       "  <thead>\n",
       "    <tr style=\"text-align: right;\">\n",
       "      <th></th>\n",
       "      <th>MedInc</th>\n",
       "      <th>HouseAge</th>\n",
       "      <th>AveRooms</th>\n",
       "      <th>AveBedrms</th>\n",
       "      <th>Population</th>\n",
       "      <th>AveOccup</th>\n",
       "      <th>Latitude</th>\n",
       "      <th>Longitude</th>\n",
       "    </tr>\n",
       "  </thead>\n",
       "  <tbody>\n",
       "    <tr>\n",
       "      <th>0</th>\n",
       "      <td>2.282937</td>\n",
       "      <td>0.840348</td>\n",
       "      <td>0.432496</td>\n",
       "      <td>-0.124766</td>\n",
       "      <td>-0.927041</td>\n",
       "      <td>-0.029350</td>\n",
       "      <td>-0.061302</td>\n",
       "      <td>-0.665338</td>\n",
       "    </tr>\n",
       "    <tr>\n",
       "      <th>1</th>\n",
       "      <td>2.270447</td>\n",
       "      <td>-0.638101</td>\n",
       "      <td>0.194785</td>\n",
       "      <td>-0.209089</td>\n",
       "      <td>1.010284</td>\n",
       "      <td>-0.059683</td>\n",
       "      <td>-0.092320</td>\n",
       "      <td>-0.648488</td>\n",
       "    </tr>\n",
       "    <tr>\n",
       "      <th>2</th>\n",
       "      <td>1.722561</td>\n",
       "      <td>1.653495</td>\n",
       "      <td>0.848020</td>\n",
       "      <td>-0.044166</td>\n",
       "      <td>-0.764898</td>\n",
       "      <td>-0.012561</td>\n",
       "      <td>-0.107830</td>\n",
       "      <td>-0.682189</td>\n",
       "    </tr>\n",
       "    <tr>\n",
       "      <th>3</th>\n",
       "      <td>0.875385</td>\n",
       "      <td>1.653495</td>\n",
       "      <td>0.060701</td>\n",
       "      <td>-0.044794</td>\n",
       "      <td>-0.707123</td>\n",
       "      <td>-0.029868</td>\n",
       "      <td>-0.107830</td>\n",
       "      <td>-0.699039</td>\n",
       "    </tr>\n",
       "    <tr>\n",
       "      <th>4</th>\n",
       "      <td>-0.067618</td>\n",
       "      <td>1.653495</td>\n",
       "      <td>0.208715</td>\n",
       "      <td>-0.031768</td>\n",
       "      <td>-0.700600</td>\n",
       "      <td>-0.054808</td>\n",
       "      <td>-0.107830</td>\n",
       "      <td>-0.699039</td>\n",
       "    </tr>\n",
       "    <tr>\n",
       "      <th>...</th>\n",
       "      <td>...</td>\n",
       "      <td>...</td>\n",
       "      <td>...</td>\n",
       "      <td>...</td>\n",
       "      <td>...</td>\n",
       "      <td>...</td>\n",
       "      <td>...</td>\n",
       "      <td>...</td>\n",
       "    </tr>\n",
       "    <tr>\n",
       "      <th>20635</th>\n",
       "      <td>-1.267246</td>\n",
       "      <td>-0.342411</td>\n",
       "      <td>-0.185265</td>\n",
       "      <td>0.053080</td>\n",
       "      <td>-0.439681</td>\n",
       "      <td>-0.029006</td>\n",
       "      <td>2.420191</td>\n",
       "      <td>1.255575</td>\n",
       "    </tr>\n",
       "    <tr>\n",
       "      <th>20636</th>\n",
       "      <td>-0.744288</td>\n",
       "      <td>-0.859868</td>\n",
       "      <td>0.155239</td>\n",
       "      <td>0.349354</td>\n",
       "      <td>-0.895358</td>\n",
       "      <td>0.009253</td>\n",
       "      <td>2.435700</td>\n",
       "      <td>1.053374</td>\n",
       "    </tr>\n",
       "    <tr>\n",
       "      <th>20637</th>\n",
       "      <td>-1.193932</td>\n",
       "      <td>-0.933790</td>\n",
       "      <td>-0.134253</td>\n",
       "      <td>0.031579</td>\n",
       "      <td>-0.288721</td>\n",
       "      <td>-0.044997</td>\n",
       "      <td>2.342644</td>\n",
       "      <td>1.036524</td>\n",
       "    </tr>\n",
       "    <tr>\n",
       "      <th>20638</th>\n",
       "      <td>-1.106186</td>\n",
       "      <td>-0.859868</td>\n",
       "      <td>-0.094750</td>\n",
       "      <td>0.115737</td>\n",
       "      <td>-0.536594</td>\n",
       "      <td>-0.058773</td>\n",
       "      <td>2.342644</td>\n",
       "      <td>0.868023</td>\n",
       "    </tr>\n",
       "    <tr>\n",
       "      <th>20639</th>\n",
       "      <td>-0.832558</td>\n",
       "      <td>-1.007713</td>\n",
       "      <td>-0.118584</td>\n",
       "      <td>0.100058</td>\n",
       "      <td>0.065384</td>\n",
       "      <td>-0.025170</td>\n",
       "      <td>2.249588</td>\n",
       "      <td>1.002824</td>\n",
       "    </tr>\n",
       "  </tbody>\n",
       "</table>\n",
       "<p>7400 rows × 8 columns</p>\n",
       "</div>"
      ],
      "text/plain": [
       "         MedInc  HouseAge  AveRooms  AveBedrms  Population  AveOccup  \\\n",
       "0      2.282937  0.840348  0.432496  -0.124766   -0.927041 -0.029350   \n",
       "1      2.270447 -0.638101  0.194785  -0.209089    1.010284 -0.059683   \n",
       "2      1.722561  1.653495  0.848020  -0.044166   -0.764898 -0.012561   \n",
       "3      0.875385  1.653495  0.060701  -0.044794   -0.707123 -0.029868   \n",
       "4     -0.067618  1.653495  0.208715  -0.031768   -0.700600 -0.054808   \n",
       "...         ...       ...       ...        ...         ...       ...   \n",
       "20635 -1.267246 -0.342411 -0.185265   0.053080   -0.439681 -0.029006   \n",
       "20636 -0.744288 -0.859868  0.155239   0.349354   -0.895358  0.009253   \n",
       "20637 -1.193932 -0.933790 -0.134253   0.031579   -0.288721 -0.044997   \n",
       "20638 -1.106186 -0.859868 -0.094750   0.115737   -0.536594 -0.058773   \n",
       "20639 -0.832558 -1.007713 -0.118584   0.100058    0.065384 -0.025170   \n",
       "\n",
       "       Latitude  Longitude  \n",
       "0     -0.061302  -0.665338  \n",
       "1     -0.092320  -0.648488  \n",
       "2     -0.107830  -0.682189  \n",
       "3     -0.107830  -0.699039  \n",
       "4     -0.107830  -0.699039  \n",
       "...         ...        ...  \n",
       "20635  2.420191   1.255575  \n",
       "20636  2.435700   1.053374  \n",
       "20637  2.342644   1.036524  \n",
       "20638  2.342644   0.868023  \n",
       "20639  2.249588   1.002824  \n",
       "\n",
       "[7400 rows x 8 columns]"
      ]
     },
     "execution_count": 14,
     "metadata": {},
     "output_type": "execute_result"
    }
   ],
   "source": [
    "X"
   ]
  },
  {
   "cell_type": "markdown",
   "metadata": {},
   "source": [
    "Let's start by using LASSO to get a rough idea of feature importance"
   ]
  },
  {
   "cell_type": "code",
   "execution_count": 15,
   "metadata": {},
   "outputs": [
    {
     "data": {
      "text/plain": [
       "Lasso(alpha=0.001, fit_intercept=True, normalize=False, max_iter=1000, tol=0.001, selection='cyclic', handle=<cuml.raft.common.handle.Handle object at 0x7f3449f63510>, output_type='cudf', verbose=4)"
      ]
     },
     "execution_count": 15,
     "metadata": {},
     "output_type": "execute_result"
    }
   ],
   "source": [
    "lasso = cuml.linear_model.Lasso(alpha=0.001)\n",
    "lasso.fit(X, y)"
   ]
  },
  {
   "cell_type": "code",
   "execution_count": 16,
   "metadata": {},
   "outputs": [
    {
     "data": {
      "text/plain": [
       "0    0.723581\n",
       "7    0.324211\n",
       "6    0.236364\n",
       "1    0.132531\n",
       "3    0.127001\n",
       "5    0.046285\n",
       "2    0.042137\n",
       "4    0.004984\n",
       "dtype: float32"
      ]
     },
     "execution_count": 16,
     "metadata": {},
     "output_type": "execute_result"
    }
   ],
   "source": [
    "feature_importance = lasso.coef_[lasso.coef_.abs().argsort()].abs().reverse()\n",
    "feature_importance"
   ]
  },
  {
   "cell_type": "code",
   "execution_count": 17,
   "metadata": {},
   "outputs": [
    {
     "data": {
      "text/plain": [
       "<matplotlib.collections.PathCollection at 0x7f3449e85670>"
      ]
     },
     "execution_count": 17,
     "metadata": {},
     "output_type": "execute_result"
    },
    {
     "data": {
      "image/png": "[encoded data removed]",
      "text/plain": [
       "<Figure size 432x288 with 1 Axes>"
      ]
     },
     "metadata": {
      "needs_background": "light"
     },
     "output_type": "display_data"
    }
   ],
   "source": [
    "import numpy as np\n",
    "plt.scatter(np.arange(8), feature_importance.to_pandas())"
   ]
  },
  {
   "cell_type": "code",
   "execution_count": 18,
   "metadata": {},
   "outputs": [
    {
     "data": {
      "text/plain": [
       "Index(['MedInc', 'HouseAge', 'AveRooms', 'AveBedrms', 'Population', 'AveOccup',\n",
       "       'Latitude', 'Longitude'],\n",
       "      dtype='object')"
      ]
     },
     "execution_count": 18,
     "metadata": {},
     "output_type": "execute_result"
    }
   ],
   "source": [
    "X.columns"
   ]
  },
  {
   "cell_type": "code",
   "execution_count": 19,
   "metadata": {},
   "outputs": [
    {
     "data": {
      "text/plain": [
       "Index(['MedInc', 'Longitude', 'Latitude', 'HouseAge', 'AveBedrms', 'AveOccup',\n",
       "       'AveRooms', 'Population'],\n",
       "      dtype='object')"
      ]
     },
     "execution_count": 19,
     "metadata": {},
     "output_type": "execute_result"
    }
   ],
   "source": [
    "X.columns[feature_importance.index.values.get()]"
   ]
  },
  {
   "cell_type": "markdown",
   "metadata": {},
   "source": [
    "We can see from above that Population has almost no predictive power so we can drop that from our dataset"
   ]
  },
  {
   "cell_type": "markdown",
   "metadata": {},
   "source": [
    "Let's split our data into a training and testing sets"
   ]
  },
  {
   "cell_type": "code",
   "execution_count": 20,
   "metadata": {},
   "outputs": [],
   "source": [
    "X_train, X_test, y_train, y_test = cuml.train_test_split(X, y)"
   ]
  },
  {
   "cell_type": "markdown",
   "metadata": {},
   "source": [
    "Let's use Random Forests to predict the "
   ]
  },
  {
   "cell_type": "code",
   "execution_count": 21,
   "metadata": {},
   "outputs": [],
   "source": [
    "model = cuml.linear_model.ElasticNet()\n",
    "model.fit(X_train, y_train)\n",
    "y_hat = model.predict(X_test)"
   ]
  },
  {
   "cell_type": "code",
   "execution_count": 22,
   "metadata": {},
   "outputs": [
    {
     "data": {
      "text/plain": [
       "0.22917338237861162"
      ]
     },
     "execution_count": 22,
     "metadata": {},
     "output_type": "execute_result"
    }
   ],
   "source": [
    "model.score(X_test, y_test)"
   ]
  },
  {
   "cell_type": "code",
   "execution_count": 23,
   "metadata": {},
   "outputs": [
    {
     "name": "stdout",
     "output_type": "stream",
     "text": [
      "MSE: 2298661.7035373044\n"
     ]
    }
   ],
   "source": [
    "print(\"MSE: %s\" % (y_test.reset_index(drop=True) - y_hat).abs().sum()**2)"
   ]
  },
  {
   "cell_type": "code",
   "execution_count": 24,
   "metadata": {},
   "outputs": [],
   "source": [
    "rf = cuml.ensemble.RandomForestRegressor(max_depth=5, n_estimators=100)\n",
    "rf.fit(X_train, y_train)\n",
    "y_hat = rf.predict(X_test)"
   ]
  },
  {
   "cell_type": "code",
   "execution_count": 25,
   "metadata": {},
   "outputs": [
    {
     "name": "stdout",
     "output_type": "stream",
     "text": [
      "MSE: 665233.9842644216\n"
     ]
    }
   ],
   "source": [
    "print(\"MSE: %s\" % (y_test.reset_index(drop=True) - y_hat).abs().sum()**2)"
   ]
  },
  {
   "cell_type": "code",
   "execution_count": 26,
   "metadata": {},
   "outputs": [
    {
     "data": {
      "text/plain": [
       "0.7300010919570923"
      ]
     },
     "execution_count": 26,
     "metadata": {},
     "output_type": "execute_result"
    }
   ],
   "source": [
    "rf.score(X_test, y_test)"
   ]
  },
  {
   "cell_type": "code",
   "execution_count": 27,
   "metadata": {},
   "outputs": [],
   "source": [
    "model = cuml.neighbors.KNeighborsRegressor(n_neighbors=15)\n",
    "model.fit(X_train, y_train)\n",
    "y_hat = model.predict(X_test)"
   ]
  },
  {
   "cell_type": "code",
   "execution_count": 28,
   "metadata": {},
   "outputs": [
    {
     "name": "stdout",
     "output_type": "stream",
     "text": [
      "MSE: 718.9144654201125\n"
     ]
    }
   ],
   "source": [
    "print(\"MSE: %s\" % (y_test.reset_index(drop=True) - y_hat).abs().sum())"
   ]
  },
  {
   "cell_type": "code",
   "execution_count": 29,
   "metadata": {},
   "outputs": [
    {
     "data": {
      "text/plain": [
       "0.7682122546697716"
      ]
     },
     "execution_count": 29,
     "metadata": {},
     "output_type": "execute_result"
    }
   ],
   "source": [
    "model.score(X_test, y_test)"
   ]
  },
  {
   "cell_type": "code",
   "execution_count": 30,
   "metadata": {},
   "outputs": [],
   "source": [
    "model = cuml.svm.SVR(kernel='rbf')\n",
    "model.fit(X_train, y_train)\n",
    "y_hat = model.predict(X_test)"
   ]
  },
  {
   "cell_type": "code",
   "execution_count": 31,
   "metadata": {},
   "outputs": [
    {
     "name": "stdout",
     "output_type": "stream",
     "text": [
      "MSE: 683.2317506858063\n"
     ]
    }
   ],
   "source": [
    "print(\"MSE: %s\" % (y_test.reset_index(drop=True) - y_hat).abs().sum())"
   ]
  },
  {
   "cell_type": "code",
   "execution_count": 32,
   "metadata": {},
   "outputs": [
    {
     "data": {
      "text/plain": [
       "0.7698518798690545"
      ]
     },
     "execution_count": 32,
     "metadata": {},
     "output_type": "execute_result"
    }
   ],
   "source": [
    "model.score(X_test, y_test)"
   ]
  },
  {
   "cell_type": "markdown",
   "metadata": {},
   "source": [
    "Since it is has such a low feature importance, let's drop the 'Population' feature from X_train and X_test and see if it has a positive affect on our SVR model predictions. "
   ]
  },
  {
   "cell_type": "code",
   "execution_count": 33,
   "metadata": {},
   "outputs": [],
   "source": [
    "X_train = X_train.drop(columns=\"Population\")\n",
    "X_test = X_test.drop(columns=\"Population\")"
   ]
  },
  {
   "cell_type": "code",
   "execution_count": 34,
   "metadata": {},
   "outputs": [],
   "source": [
    "model = cuml.svm.SVR(kernel='rbf')\n",
    "model.fit(X_train, y_train)\n",
    "y_hat = model.predict(X_test)"
   ]
  },
  {
   "cell_type": "code",
   "execution_count": 35,
   "metadata": {},
   "outputs": [
    {
     "name": "stdout",
     "output_type": "stream",
     "text": [
      "MSE: 676.2087480908966\n"
     ]
    }
   ],
   "source": [
    "print(\"MSE: %s\" % (y_test.reset_index(drop=True) - y_hat).abs().sum())"
   ]
  },
  {
   "cell_type": "code",
   "execution_count": 36,
   "metadata": {},
   "outputs": [
    {
     "data": {
      "text/plain": [
       "0.772380284507129"
      ]
     },
     "execution_count": 36,
     "metadata": {},
     "output_type": "execute_result"
    }
   ],
   "source": [
    "model.score(X_test, y_test)"
   ]
  }
 ],
 "metadata": {
  "kernelspec": {
   "display_name": "Python (odsc)",
   "language": "python",
   "name": "python3"
  },
  "language_info": {
   "codemirror_mode": {
    "name": "ipython",
    "version": 3
   },
   "file_extension": ".py",
   "mimetype": "text/x-python",
   "name": "python",
   "nbconvert_exporter": "python",
   "pygments_lexer": "ipython3",
   "version": "3.8.6"
  }
 },
 "nbformat": 4,
 "nbformat_minor": 4
}
